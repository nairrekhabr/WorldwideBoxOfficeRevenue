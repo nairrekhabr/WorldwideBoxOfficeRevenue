{
 "cells": [
  {
   "cell_type": "code",
   "execution_count": 39,
   "id": "1f135b60-852b-4d26-b367-0e0926bf130c",
   "metadata": {
    "tags": []
   },
   "outputs": [],
   "source": [
    "import pandas as pd\n",
    "import numpy as np\n",
    "from pathlib import Path\n",
    "import matplotlib.pyplot as plt\n",
    "from sklearn.ensemble import RandomForestClassifier\n",
    "from sklearn.linear_model import LinearRegression\n",
    "from sklearn.model_selection import train_test_split\n",
    "%matplotlib inline\n",
    "from sklearn.preprocessing import StandardScaler\n",
    "from sklearn.metrics import confusion_matrix, accuracy_score, classification_report\n",
    "from datetime import datetime\n",
    "from sklearn.compose import ColumnTransformer\n",
    "from sklearn.preprocessing import OneHotEncoder\n",
    "from sklearn import metrics\n",
    "import math\n",
    "from statistics import median\n",
    "import seaborn as sns\n",
    "import re\n",
    "plt.style.use('ggplot')\n",
    "pd.options.mode.chained_assignment = None  # default='warn'"
   ]
  },
  {
   "cell_type": "code",
   "execution_count": 40,
   "id": "7a09aa1e-fb39-40a5-9687-f63ce315745a",
   "metadata": {
    "tags": []
   },
   "outputs": [],
   "source": [
    "dffilm = pd.read_csv(Path('./Resources/train.csv'))"
   ]
  },
  {
   "cell_type": "code",
   "execution_count": 41,
   "id": "c4cfddf8-7eee-43f5-9c11-3f64f1199884",
   "metadata": {
    "tags": []
   },
   "outputs": [
    {
     "data": {
      "text/html": [
       "<div>\n",
       "<style scoped>\n",
       "    .dataframe tbody tr th:only-of-type {\n",
       "        vertical-align: middle;\n",
       "    }\n",
       "\n",
       "    .dataframe tbody tr th {\n",
       "        vertical-align: top;\n",
       "    }\n",
       "\n",
       "    .dataframe thead th {\n",
       "        text-align: right;\n",
       "    }\n",
       "</style>\n",
       "<table border=\"1\" class=\"dataframe\">\n",
       "  <thead>\n",
       "    <tr style=\"text-align: right;\">\n",
       "      <th></th>\n",
       "      <th>id</th>\n",
       "      <th>budget</th>\n",
       "      <th>original_language</th>\n",
       "      <th>popularity</th>\n",
       "      <th>release_date</th>\n",
       "      <th>runtime</th>\n",
       "      <th>status</th>\n",
       "      <th>revenue</th>\n",
       "    </tr>\n",
       "  </thead>\n",
       "  <tbody>\n",
       "    <tr>\n",
       "      <th>0</th>\n",
       "      <td>391</td>\n",
       "      <td>6843500</td>\n",
       "      <td>it</td>\n",
       "      <td>3.800073</td>\n",
       "      <td>12/22/12</td>\n",
       "      <td>0.0</td>\n",
       "      <td>Released</td>\n",
       "      <td>10703234</td>\n",
       "    </tr>\n",
       "    <tr>\n",
       "      <th>1</th>\n",
       "      <td>592</td>\n",
       "      <td>0</td>\n",
       "      <td>ru</td>\n",
       "      <td>0.402368</td>\n",
       "      <td>12/4/03</td>\n",
       "      <td>0.0</td>\n",
       "      <td>Released</td>\n",
       "      <td>234748</td>\n",
       "    </tr>\n",
       "    <tr>\n",
       "      <th>2</th>\n",
       "      <td>925</td>\n",
       "      <td>0</td>\n",
       "      <td>es</td>\n",
       "      <td>1.926826</td>\n",
       "      <td>11/15/13</td>\n",
       "      <td>0.0</td>\n",
       "      <td>Released</td>\n",
       "      <td>850259</td>\n",
       "    </tr>\n",
       "    <tr>\n",
       "      <th>3</th>\n",
       "      <td>978</td>\n",
       "      <td>11000000</td>\n",
       "      <td>it</td>\n",
       "      <td>5.010563</td>\n",
       "      <td>10/27/11</td>\n",
       "      <td>0.0</td>\n",
       "      <td>Released</td>\n",
       "      <td>12935800</td>\n",
       "    </tr>\n",
       "    <tr>\n",
       "      <th>4</th>\n",
       "      <td>1256</td>\n",
       "      <td>0</td>\n",
       "      <td>it</td>\n",
       "      <td>1.623440</td>\n",
       "      <td>8/25/75</td>\n",
       "      <td>0.0</td>\n",
       "      <td>Released</td>\n",
       "      <td>39598448</td>\n",
       "    </tr>\n",
       "  </tbody>\n",
       "</table>\n",
       "</div>"
      ],
      "text/plain": [
       "     id    budget original_language  popularity release_date  runtime  \\\n",
       "0   391   6843500                it    3.800073     12/22/12      0.0   \n",
       "1   592         0                ru    0.402368      12/4/03      0.0   \n",
       "2   925         0                es    1.926826     11/15/13      0.0   \n",
       "3   978  11000000                it    5.010563     10/27/11      0.0   \n",
       "4  1256         0                it    1.623440      8/25/75      0.0   \n",
       "\n",
       "     status   revenue  \n",
       "0  Released  10703234  \n",
       "1  Released    234748  \n",
       "2  Released    850259  \n",
       "3  Released  12935800  \n",
       "4  Released  39598448  "
      ]
     },
     "execution_count": 41,
     "metadata": {},
     "output_type": "execute_result"
    }
   ],
   "source": [
    "dffilm.drop(['belongs_to_collection','genres','homepage',\n",
    "            'imdb_id','spoken_languages','overview','title','poster_path','production_companies',\n",
    "            'production_countries','original_title','tagline','Keywords','cast','crew'], axis=1, inplace=True)\n",
    "dffilm.head()"
   ]
  },
  {
   "cell_type": "code",
   "execution_count": 42,
   "id": "b54c3d5f-8da9-4e69-82bc-6f60b16c5a1c",
   "metadata": {
    "tags": []
   },
   "outputs": [
    {
     "data": {
      "text/plain": [
       "0        10703234\n",
       "1          234748\n",
       "2          850259\n",
       "3        12935800\n",
       "4        39598448\n",
       "          ...    \n",
       "2995    122700000\n",
       "2996     71000000\n",
       "2997       871279\n",
       "2998        31000\n",
       "2999        65335\n",
       "Name: revenue, Length: 3000, dtype: int64"
      ]
     },
     "execution_count": 42,
     "metadata": {},
     "output_type": "execute_result"
    }
   ],
   "source": [
    "#plt.scatter(dffilm.original_language,dffilm.revenue)\n",
    "dffilm.revenue"
   ]
  },
  {
   "cell_type": "code",
   "execution_count": 43,
   "id": "5d26828a-0dc1-4597-8b8a-9efec1c04256",
   "metadata": {},
   "outputs": [
    {
     "data": {
      "text/html": [
       "<div>\n",
       "<style scoped>\n",
       "    .dataframe tbody tr th:only-of-type {\n",
       "        vertical-align: middle;\n",
       "    }\n",
       "\n",
       "    .dataframe tbody tr th {\n",
       "        vertical-align: top;\n",
       "    }\n",
       "\n",
       "    .dataframe thead th {\n",
       "        text-align: right;\n",
       "    }\n",
       "</style>\n",
       "<table border=\"1\" class=\"dataframe\">\n",
       "  <thead>\n",
       "    <tr style=\"text-align: right;\">\n",
       "      <th></th>\n",
       "      <th>id</th>\n",
       "      <th>budget</th>\n",
       "      <th>original_language</th>\n",
       "      <th>popularity</th>\n",
       "      <th>release_date</th>\n",
       "      <th>runtime</th>\n",
       "      <th>status</th>\n",
       "      <th>revenue</th>\n",
       "    </tr>\n",
       "  </thead>\n",
       "  <tbody>\n",
       "    <tr>\n",
       "      <th>17</th>\n",
       "      <td>2576</td>\n",
       "      <td>250000</td>\n",
       "      <td>1</td>\n",
       "      <td>4.297654</td>\n",
       "      <td>12</td>\n",
       "      <td>62.0</td>\n",
       "      <td>1</td>\n",
       "      <td>1000000</td>\n",
       "    </tr>\n",
       "    <tr>\n",
       "      <th>19</th>\n",
       "      <td>188</td>\n",
       "      <td>259000</td>\n",
       "      <td>1</td>\n",
       "      <td>0.722511</td>\n",
       "      <td>11</td>\n",
       "      <td>65.0</td>\n",
       "      <td>1</td>\n",
       "      <td>921000</td>\n",
       "    </tr>\n",
       "    <tr>\n",
       "      <th>20</th>\n",
       "      <td>488</td>\n",
       "      <td>4500000</td>\n",
       "      <td>0</td>\n",
       "      <td>1.833185</td>\n",
       "      <td>3</td>\n",
       "      <td>65.0</td>\n",
       "      <td>1</td>\n",
       "      <td>3468423</td>\n",
       "    </tr>\n",
       "    <tr>\n",
       "      <th>21</th>\n",
       "      <td>2278</td>\n",
       "      <td>8000000</td>\n",
       "      <td>0</td>\n",
       "      <td>7.321152</td>\n",
       "      <td>10</td>\n",
       "      <td>66.0</td>\n",
       "      <td>1</td>\n",
       "      <td>292279</td>\n",
       "    </tr>\n",
       "    <tr>\n",
       "      <th>22</th>\n",
       "      <td>1764</td>\n",
       "      <td>250000</td>\n",
       "      <td>1</td>\n",
       "      <td>8.168456</td>\n",
       "      <td>1</td>\n",
       "      <td>68.0</td>\n",
       "      <td>1</td>\n",
       "      <td>2500000</td>\n",
       "    </tr>\n",
       "    <tr>\n",
       "      <th>...</th>\n",
       "      <td>...</td>\n",
       "      <td>...</td>\n",
       "      <td>...</td>\n",
       "      <td>...</td>\n",
       "      <td>...</td>\n",
       "      <td>...</td>\n",
       "      <td>...</td>\n",
       "      <td>...</td>\n",
       "    </tr>\n",
       "    <tr>\n",
       "      <th>2994</th>\n",
       "      <td>1303</td>\n",
       "      <td>44000000</td>\n",
       "      <td>1</td>\n",
       "      <td>4.393576</td>\n",
       "      <td>11</td>\n",
       "      <td>219.0</td>\n",
       "      <td>1</td>\n",
       "      <td>3484331</td>\n",
       "    </tr>\n",
       "    <tr>\n",
       "      <th>2995</th>\n",
       "      <td>524</td>\n",
       "      <td>13000000</td>\n",
       "      <td>1</td>\n",
       "      <td>11.147040</td>\n",
       "      <td>10</td>\n",
       "      <td>220.0</td>\n",
       "      <td>1</td>\n",
       "      <td>122700000</td>\n",
       "    </tr>\n",
       "    <tr>\n",
       "      <th>2996</th>\n",
       "      <td>1923</td>\n",
       "      <td>31115000</td>\n",
       "      <td>1</td>\n",
       "      <td>8.591238</td>\n",
       "      <td>6</td>\n",
       "      <td>248.0</td>\n",
       "      <td>1</td>\n",
       "      <td>71000000</td>\n",
       "    </tr>\n",
       "    <tr>\n",
       "      <th>2997</th>\n",
       "      <td>1212</td>\n",
       "      <td>18000000</td>\n",
       "      <td>1</td>\n",
       "      <td>4.558075</td>\n",
       "      <td>5</td>\n",
       "      <td>338.0</td>\n",
       "      <td>1</td>\n",
       "      <td>871279</td>\n",
       "    </tr>\n",
       "    <tr>\n",
       "      <th>2998</th>\n",
       "      <td>1336</td>\n",
       "      <td>6000000</td>\n",
       "      <td>0</td>\n",
       "      <td>0.292296</td>\n",
       "      <td>10</td>\n",
       "      <td>NaN</td>\n",
       "      <td>1</td>\n",
       "      <td>31000</td>\n",
       "    </tr>\n",
       "  </tbody>\n",
       "</table>\n",
       "<p>2162 rows × 8 columns</p>\n",
       "</div>"
      ],
      "text/plain": [
       "        id    budget original_language  popularity release_date  runtime  \\\n",
       "17    2576    250000                 1    4.297654           12     62.0   \n",
       "19     188    259000                 1    0.722511           11     65.0   \n",
       "20     488   4500000                 0    1.833185            3     65.0   \n",
       "21    2278   8000000                 0    7.321152           10     66.0   \n",
       "22    1764    250000                 1    8.168456            1     68.0   \n",
       "...    ...       ...               ...         ...          ...      ...   \n",
       "2994  1303  44000000                 1    4.393576           11    219.0   \n",
       "2995   524  13000000                 1   11.147040           10    220.0   \n",
       "2996  1923  31115000                 1    8.591238            6    248.0   \n",
       "2997  1212  18000000                 1    4.558075            5    338.0   \n",
       "2998  1336   6000000                 0    0.292296           10      NaN   \n",
       "\n",
       "     status    revenue  \n",
       "17        1    1000000  \n",
       "19        1     921000  \n",
       "20        1    3468423  \n",
       "21        1     292279  \n",
       "22        1    2500000  \n",
       "...     ...        ...  \n",
       "2994      1    3484331  \n",
       "2995      1  122700000  \n",
       "2996      1   71000000  \n",
       "2997      1     871279  \n",
       "2998      1      31000  \n",
       "\n",
       "[2162 rows x 8 columns]"
      ]
     },
     "execution_count": 43,
     "metadata": {},
     "output_type": "execute_result"
    }
   ],
   "source": [
    "\n",
    "\n",
    "X_releasedate =dffilm\n",
    "for m in range(0,len(dffilm.release_date)):\n",
    "    film_date = dffilm.release_date[m]\n",
    "    dt = datetime.strptime(film_date, '%m/%d/%y')\n",
    "    #dffilm.release_date[m] = datetime_object.timetuple().tm_yday\n",
    "    X_releasedate.release_date[m]= dt.month\n",
    "    \n",
    "for i in range(0,len(dffilm.original_language)):\n",
    "    if dffilm.original_language[i]== 'en':\n",
    "        X_releasedate.original_language[i] = 1\n",
    "    else:\n",
    "        X_releasedate.original_language[i] = 0\n",
    "        \n",
    "\n",
    "for j in range(0,len(dffilm.status)):\n",
    "    if dffilm.status[j]== 'Released':\n",
    "        X_releasedate.status[j] = 1\n",
    "    else:\n",
    "        X_releasedate.status[j] = 0  \n",
    "\n",
    "X_releasedate =X_releasedate[X_releasedate['runtime'] !=0]\n",
    "X_releasedate =X_releasedate[X_releasedate['revenue'] !=0]\n",
    "X_releasedate =X_releasedate[X_releasedate['revenue'] >100]\n",
    "X_releasedate =X_releasedate[X_releasedate['budget'] !=0]\n",
    "        \n",
    "X_releasedate"
   ]
  },
  {
   "cell_type": "code",
   "execution_count": 44,
   "id": "ad02e1bc-2caa-4012-ae72-2c2c7612d39f",
   "metadata": {
    "tags": []
   },
   "outputs": [],
   "source": [
    "X_releasedate['release_date']=X_releasedate.release_date.astype('int64')\n",
    "X_releasedate['original_language']=X_releasedate.original_language.astype('int64')\n",
    "X_releasedate['status']=X_releasedate.status.astype('int64')"
   ]
  },
  {
   "cell_type": "code",
   "execution_count": 45,
   "id": "57fd258c-4b74-49d4-bc13-a3f53b818311",
   "metadata": {},
   "outputs": [],
   "source": [
    "X = X_releasedate.dropna().copy()\n"
   ]
  },
  {
   "cell_type": "code",
   "execution_count": 46,
   "id": "c7831cea-c08a-41b0-ba3a-63bca6c30f5b",
   "metadata": {},
   "outputs": [
    {
     "data": {
      "text/html": [
       "<div>\n",
       "<style scoped>\n",
       "    .dataframe tbody tr th:only-of-type {\n",
       "        vertical-align: middle;\n",
       "    }\n",
       "\n",
       "    .dataframe tbody tr th {\n",
       "        vertical-align: top;\n",
       "    }\n",
       "\n",
       "    .dataframe thead th {\n",
       "        text-align: right;\n",
       "    }\n",
       "</style>\n",
       "<table border=\"1\" class=\"dataframe\">\n",
       "  <thead>\n",
       "    <tr style=\"text-align: right;\">\n",
       "      <th></th>\n",
       "      <th>id</th>\n",
       "      <th>budget</th>\n",
       "      <th>original_language</th>\n",
       "      <th>popularity</th>\n",
       "      <th>release_date</th>\n",
       "      <th>runtime</th>\n",
       "      <th>revenue</th>\n",
       "    </tr>\n",
       "  </thead>\n",
       "  <tbody>\n",
       "    <tr>\n",
       "      <th>17</th>\n",
       "      <td>2576</td>\n",
       "      <td>250000</td>\n",
       "      <td>1</td>\n",
       "      <td>4.297654</td>\n",
       "      <td>12</td>\n",
       "      <td>62.0</td>\n",
       "      <td>1000000</td>\n",
       "    </tr>\n",
       "    <tr>\n",
       "      <th>19</th>\n",
       "      <td>188</td>\n",
       "      <td>259000</td>\n",
       "      <td>1</td>\n",
       "      <td>0.722511</td>\n",
       "      <td>11</td>\n",
       "      <td>65.0</td>\n",
       "      <td>921000</td>\n",
       "    </tr>\n",
       "    <tr>\n",
       "      <th>20</th>\n",
       "      <td>488</td>\n",
       "      <td>4500000</td>\n",
       "      <td>0</td>\n",
       "      <td>1.833185</td>\n",
       "      <td>3</td>\n",
       "      <td>65.0</td>\n",
       "      <td>3468423</td>\n",
       "    </tr>\n",
       "    <tr>\n",
       "      <th>21</th>\n",
       "      <td>2278</td>\n",
       "      <td>8000000</td>\n",
       "      <td>0</td>\n",
       "      <td>7.321152</td>\n",
       "      <td>10</td>\n",
       "      <td>66.0</td>\n",
       "      <td>292279</td>\n",
       "    </tr>\n",
       "    <tr>\n",
       "      <th>22</th>\n",
       "      <td>1764</td>\n",
       "      <td>250000</td>\n",
       "      <td>1</td>\n",
       "      <td>8.168456</td>\n",
       "      <td>1</td>\n",
       "      <td>68.0</td>\n",
       "      <td>2500000</td>\n",
       "    </tr>\n",
       "    <tr>\n",
       "      <th>...</th>\n",
       "      <td>...</td>\n",
       "      <td>...</td>\n",
       "      <td>...</td>\n",
       "      <td>...</td>\n",
       "      <td>...</td>\n",
       "      <td>...</td>\n",
       "      <td>...</td>\n",
       "    </tr>\n",
       "    <tr>\n",
       "      <th>2993</th>\n",
       "      <td>1915</td>\n",
       "      <td>56000000</td>\n",
       "      <td>1</td>\n",
       "      <td>5.374563</td>\n",
       "      <td>2</td>\n",
       "      <td>214.0</td>\n",
       "      <td>12923936</td>\n",
       "    </tr>\n",
       "    <tr>\n",
       "      <th>2994</th>\n",
       "      <td>1303</td>\n",
       "      <td>44000000</td>\n",
       "      <td>1</td>\n",
       "      <td>4.393576</td>\n",
       "      <td>11</td>\n",
       "      <td>219.0</td>\n",
       "      <td>3484331</td>\n",
       "    </tr>\n",
       "    <tr>\n",
       "      <th>2995</th>\n",
       "      <td>524</td>\n",
       "      <td>13000000</td>\n",
       "      <td>1</td>\n",
       "      <td>11.147040</td>\n",
       "      <td>10</td>\n",
       "      <td>220.0</td>\n",
       "      <td>122700000</td>\n",
       "    </tr>\n",
       "    <tr>\n",
       "      <th>2996</th>\n",
       "      <td>1923</td>\n",
       "      <td>31115000</td>\n",
       "      <td>1</td>\n",
       "      <td>8.591238</td>\n",
       "      <td>6</td>\n",
       "      <td>248.0</td>\n",
       "      <td>71000000</td>\n",
       "    </tr>\n",
       "    <tr>\n",
       "      <th>2997</th>\n",
       "      <td>1212</td>\n",
       "      <td>18000000</td>\n",
       "      <td>1</td>\n",
       "      <td>4.558075</td>\n",
       "      <td>5</td>\n",
       "      <td>338.0</td>\n",
       "      <td>871279</td>\n",
       "    </tr>\n",
       "  </tbody>\n",
       "</table>\n",
       "<p>2161 rows × 7 columns</p>\n",
       "</div>"
      ],
      "text/plain": [
       "        id    budget  original_language  popularity  release_date  runtime  \\\n",
       "17    2576    250000                  1    4.297654            12     62.0   \n",
       "19     188    259000                  1    0.722511            11     65.0   \n",
       "20     488   4500000                  0    1.833185             3     65.0   \n",
       "21    2278   8000000                  0    7.321152            10     66.0   \n",
       "22    1764    250000                  1    8.168456             1     68.0   \n",
       "...    ...       ...                ...         ...           ...      ...   \n",
       "2993  1915  56000000                  1    5.374563             2    214.0   \n",
       "2994  1303  44000000                  1    4.393576            11    219.0   \n",
       "2995   524  13000000                  1   11.147040            10    220.0   \n",
       "2996  1923  31115000                  1    8.591238             6    248.0   \n",
       "2997  1212  18000000                  1    4.558075             5    338.0   \n",
       "\n",
       "        revenue  \n",
       "17      1000000  \n",
       "19       921000  \n",
       "20      3468423  \n",
       "21       292279  \n",
       "22      2500000  \n",
       "...         ...  \n",
       "2993   12923936  \n",
       "2994    3484331  \n",
       "2995  122700000  \n",
       "2996   71000000  \n",
       "2997     871279  \n",
       "\n",
       "[2161 rows x 7 columns]"
      ]
     },
     "execution_count": 46,
     "metadata": {},
     "output_type": "execute_result"
    }
   ],
   "source": [
    "\n",
    "X=X_releasedate.dropna()\n",
    "y=X_releasedate.dropna()\n",
    "X.drop(['revenue'], axis=1, inplace=True)\n",
    "y.drop(['status'], axis=1, inplace=True)\n",
    "X.shape\n",
    "y.shape\n",
    "y"
   ]
  },
  {
   "cell_type": "code",
   "execution_count": 60,
   "id": "c506d0c1-db9c-4d70-aa11-0953a0c3a9d8",
   "metadata": {},
   "outputs": [
    {
     "data": {
      "text/plain": [
       "<matplotlib.collections.PathCollection at 0x7ff640438850>"
      ]
     },
     "execution_count": 60,
     "metadata": {},
     "output_type": "execute_result"
    },
    {
     "data": {
      "image/png": "[encoded data removed]",
      "text/plain": [
       "<Figure size 864x576 with 1 Axes>"
      ]
     },
     "metadata": {},
     "output_type": "display_data"
    }
   ],
   "source": [
    "plt.scatter(X,y)\n",
    "#plt.scatter(X,y)"
   ]
  },
  {
   "cell_type": "code",
   "execution_count": 61,
   "id": "adaa6458-1103-4cbe-bd35-4185479342e2",
   "metadata": {},
   "outputs": [
    {
     "data": {
      "text/plain": [
       "(2161, 7)"
      ]
     },
     "execution_count": 61,
     "metadata": {},
     "output_type": "execute_result"
    }
   ],
   "source": [
    "X.shape"
   ]
  },
  {
   "cell_type": "code",
   "execution_count": 62,
   "id": "377f0b67-ae4d-4637-8ec7-d608de0aacbc",
   "metadata": {},
   "outputs": [
    {
     "data": {
      "text/plain": [
       "(2161, 7)"
      ]
     },
     "execution_count": 62,
     "metadata": {},
     "output_type": "execute_result"
    }
   ],
   "source": [
    "y.shape"
   ]
  },
  {
   "cell_type": "code",
   "execution_count": 63,
   "id": "1236ff01-1713-40cf-a542-c8666961e415",
   "metadata": {},
   "outputs": [
    {
     "data": {
      "text/plain": [
       "LinearRegression()"
      ]
     },
     "execution_count": 63,
     "metadata": {},
     "output_type": "execute_result"
    }
   ],
   "source": [
    "model = LinearRegression()\n",
    "model\n",
    "\n",
    "\n",
    "# Fit the data into the model\n",
    "model.fit(X, y)"
   ]
  },
  {
   "cell_type": "code",
   "execution_count": 64,
   "id": "c47702fe-c028-48c6-9622-ee29387e10c8",
   "metadata": {},
   "outputs": [
    {
     "name": "stdout",
     "output_type": "stream",
     "text": [
      "[[ 1.00000000e+00 -3.42356046e-19  1.76123358e-15 -4.94110934e-17\n",
      "   1.06826693e-15 -3.10814995e-16  1.20864643e-14]\n",
      " [-5.00092107e-13  1.00000000e+00 -1.33973804e-10  7.28458962e-12\n",
      "  -5.78343485e-11  1.62701876e-11 -3.13172629e-09]\n",
      " [-1.96968282e-20  9.51153313e-23  1.00000000e+00  1.15742322e-16\n",
      "  -3.66763243e-15  3.98998238e-17 -1.27167501e-18]\n",
      " [ 2.70570295e-18  1.71317774e-22 -3.71488090e-15  1.00000000e+00\n",
      "   5.67981321e-17  1.17979722e-16  5.59945817e-16]\n",
      " [ 1.56606871e-18  6.04205742e-23  1.51928965e-15 -1.56054776e-16\n",
      "   1.00000000e+00 -1.12296123e-16  5.73872040e-16]\n",
      " [ 7.16774196e-17 -4.67131165e-22  6.20576499e-15 -4.30292001e-17\n",
      "  -2.97586526e-16  1.00000000e+00 -5.97146264e-16]\n",
      " [-2.26669939e+03  2.54946502e+00 -2.96764716e+06  2.66940372e+06\n",
      "   8.32727106e+04  2.54639279e+05 -2.16098466e+07]]\n"
     ]
    }
   ],
   "source": [
    "# The slope\n",
    "print(model.coef_)"
   ]
  },
  {
   "cell_type": "code",
   "execution_count": 65,
   "id": "95e7c7bc-a64c-481e-867c-aa0211548bc4",
   "metadata": {},
   "outputs": [
    {
     "name": "stdout",
     "output_type": "stream",
     "text": [
      "[ 1.09139364e-11  0.00000000e+00  1.54321000e-14 -2.30926389e-14\n",
      "  7.99360578e-15 -1.98951966e-13 -1.87130611e+07]\n"
     ]
    }
   ],
   "source": [
    "# The y-intercept\n",
    "print(model.intercept_)"
   ]
  },
  {
   "cell_type": "code",
   "execution_count": 66,
   "id": "8525f2bf-ce71-4fcf-b46f-9e4d74a3dab1",
   "metadata": {
    "tags": []
   },
   "outputs": [
    {
     "name": "stdout",
     "output_type": "stream",
     "text": [
      "        id    budget  original_language  popularity  release_date  runtime  \\\n",
      "17    2576    250000                  1    4.297654            12     62.0   \n",
      "19     188    259000                  1    0.722511            11     65.0   \n",
      "20     488   4500000                  0    1.833185             3     65.0   \n",
      "21    2278   8000000                  0    7.321152            10     66.0   \n",
      "22    1764    250000                  1    8.168456             1     68.0   \n",
      "...    ...       ...                ...         ...           ...      ...   \n",
      "2993  1915  56000000                  1    5.374563             2    214.0   \n",
      "2994  1303  44000000                  1    4.393576            11    219.0   \n",
      "2995   524  13000000                  1   11.147040            10    220.0   \n",
      "2996  1923  31115000                  1    8.591238             6    248.0   \n",
      "2997  1212  18000000                  1    4.558075             5    338.0   \n",
      "\n",
      "      status  \n",
      "17         1  \n",
      "19         1  \n",
      "20         1  \n",
      "21         1  \n",
      "22         1  \n",
      "...      ...  \n",
      "2993       1  \n",
      "2994       1  \n",
      "2995       1  \n",
      "2996       1  \n",
      "2997       1  \n",
      "\n",
      "[2161 rows x 7 columns]\n",
      "[[ 2.57600000e+03  2.50000000e+05  1.00000000e+00 ...  1.20000000e+01\n",
      "   6.20000000e+01 -2.02331247e+07]\n",
      " [ 1.88000000e+02  2.59000000e+05  1.00000000e+00 ...  1.10000000e+01\n",
      "   6.50000000e+01 -2.36601563e+07]\n",
      " [ 4.88000000e+02  4.50000000e+06  7.65200364e-15 ...  3.00000000e+00\n",
      "   6.50000000e+01 -8.26158222e+06]\n",
      " ...\n",
      " [ 5.24000000e+02  1.30000000e+07  1.00000000e+00 ...  1.00000000e+01\n",
      "   2.20000000e+02  7.52740585e+07]\n",
      " [ 1.92300000e+03  3.11150000e+07  1.00000000e+00 ...  6.00000000e+00\n",
      "   2.48000000e+02  1.18260846e+08]\n",
      " [ 1.21200000e+03  1.80000000e+07  1.00000000e+00 ...  5.00000000e+00\n",
      "   3.38000000e+02  9.85043582e+07]]\n"
     ]
    }
   ],
   "source": [
    "# The model creates predicted y values based on X values\n",
    "predicted_y_values = model.predict(X)\n",
    "print(X)\n",
    "print(predicted_y_values)"
   ]
  },
  {
   "cell_type": "code",
   "execution_count": 67,
   "id": "be077852-c525-4ddd-8d77-15953868a188",
   "metadata": {},
   "outputs": [
    {
     "data": {
      "text/plain": [
       "[<matplotlib.lines.Line2D at 0x7ff63ea18e20>,\n",
       " <matplotlib.lines.Line2D at 0x7ff640590df0>,\n",
       " <matplotlib.lines.Line2D at 0x7ff6405901c0>,\n",
       " <matplotlib.lines.Line2D at 0x7ff640590b50>,\n",
       " <matplotlib.lines.Line2D at 0x7ff640590e50>,\n",
       " <matplotlib.lines.Line2D at 0x7ff640590be0>,\n",
       " <matplotlib.lines.Line2D at 0x7ff640590af0>]"
      ]
     },
     "execution_count": 67,
     "metadata": {},
     "output_type": "execute_result"
    },
    {
     "data": {
      "image/png": "[encoded data removed]",
      "text/plain": [
       "<Figure size 864x576 with 1 Axes>"
      ]
     },
     "metadata": {},
     "output_type": "display_data"
    }
   ],
   "source": [
    "#Plot the results. The best fit line is red.\n",
    "plt.scatter(X, y)\n",
    "plt.plot(X,predicted_y_values,color='red')"
   ]
  },
  {
   "cell_type": "code",
   "execution_count": 70,
   "id": "a470a970-fe24-4dc8-82ee-fe18c4f0d678",
   "metadata": {},
   "outputs": [
    {
     "name": "stderr",
     "output_type": "stream",
     "text": [
      "/Users/vikramjindal/opt/anaconda3/lib/python3.8/site-packages/seaborn/distributions.py:2619: FutureWarning: `distplot` is a deprecated function and will be removed in a future version. Please adapt your code to use either `displot` (a figure-level function with similar flexibility) or `histplot` (an axes-level function for histograms).\n",
      "  warnings.warn(msg, FutureWarning)\n",
      "/var/folders/23/mc3swhfd7ts230fqc9_j4xqw0000gn/T/ipykernel_15211/2136864894.py:8: RuntimeWarning: invalid value encountered in log1p\n",
      "  sns.distplot(a=np.log1p(predicted_y_values), kde = False, ax = ax[2], color='purple', hist_kws=dict(alpha=1))\n"
     ]
    },
    {
     "data": {
      "image/png": "[encoded data removed]",
      "text/plain": [
       "<Figure size 720x432 with 3 Axes>"
      ]
     },
     "metadata": {},
     "output_type": "display_data"
    }
   ],
   "source": [
    "f, ax = plt.subplots(3, figsize=(10,6))\n",
    "\n",
    "sns.set(rc={'figure.figsize':(12,8)})\n",
    "sns.boxplot(x=predicted_y_values, ax = ax[0], color='purple')\n",
    "ax[0].set_title(\"Box Plot of revenue variable\")\n",
    "sns.distplot(a=predicted_y_values, kde = False, ax = ax[1], color='purple', hist_kws=dict(alpha=1))\n",
    "ax[1].set_title(\"Histogram of revenue variable\")\n",
    "sns.distplot(a=np.log1p(predicted_y_values), kde = False, ax = ax[2], color='purple', hist_kws=dict(alpha=1))\n",
    "ax[2].set_title(\"Log1p transformed revenue Histogram\")\n",
    "f.tight_layout()"
   ]
  },
  {
   "cell_type": "code",
   "execution_count": 56,
   "id": "3c0d557c-ad9c-4929-9fa2-46f710c8d068",
   "metadata": {},
   "outputs": [
    {
     "data": {
      "text/plain": [
       "count    2162.000000\n",
       "mean        0.999537\n",
       "std         0.021507\n",
       "min         0.000000\n",
       "25%         1.000000\n",
       "50%         1.000000\n",
       "75%         1.000000\n",
       "max         1.000000\n",
       "Name: status, dtype: float64"
      ]
     },
     "execution_count": 56,
     "metadata": {},
     "output_type": "execute_result"
    }
   ],
   "source": [
    "X_releasedate['status'].describe()"
   ]
  },
  {
   "cell_type": "code",
   "execution_count": null,
   "id": "61207c41-5a6e-4d0e-9831-59bda8833064",
   "metadata": {},
   "outputs": [],
   "source": []
  },
  {
   "cell_type": "code",
   "execution_count": null,
   "id": "d0a96e5a-bd57-44a8-8f05-62acf1ee0162",
   "metadata": {},
   "outputs": [],
   "source": []
  }
 ],
 "metadata": {
  "kernelspec": {
   "display_name": "Python 3 (ipykernel)",
   "language": "python",
   "name": "python3"
  },
  "language_info": {
   "codemirror_mode": {
    "name": "ipython",
    "version": 3
   },
   "file_extension": ".py",
   "mimetype": "text/x-python",
   "name": "python",
   "nbconvert_exporter": "python",
   "pygments_lexer": "ipython3",
   "version": "3.8.2"
  }
 },
 "nbformat": 4,
 "nbformat_minor": 5
}
