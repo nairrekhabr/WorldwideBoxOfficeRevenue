{
 "cells": [
  {
   "cell_type": "code",
   "execution_count": 1,
   "id": "1f135b60-852b-4d26-b367-0e0926bf130c",
   "metadata": {
    "tags": []
   },
   "outputs": [],
   "source": [
    "import pandas as pd\n",
    "from pathlib import Path\n",
    "import matplotlib.pyplot as plt\n",
    "from sklearn.ensemble import RandomForestClassifier\n",
    "from sklearn.linear_model import LinearRegression\n",
    "from sklearn.model_selection import train_test_split\n",
    "%matplotlib inline\n",
    "from sklearn.preprocessing import StandardScaler\n",
    "from sklearn.metrics import confusion_matrix, accuracy_score, classification_report\n",
    "from datetime import datetime\n",
    "from sklearn.compose import ColumnTransformer\n",
    "from sklearn.preprocessing import OneHotEncoder"
   ]
  },
  {
   "cell_type": "code",
   "execution_count": 2,
   "id": "7a09aa1e-fb39-40a5-9687-f63ce315745a",
   "metadata": {
    "tags": []
   },
   "outputs": [],
   "source": [
    "dffilm = pd.read_csv(Path('./Resources/train.csv'))"
   ]
  },
  {
   "cell_type": "code",
   "execution_count": 3,
   "id": "c4cfddf8-7eee-43f5-9c11-3f64f1199884",
   "metadata": {
    "collapsed": true,
    "jupyter": {
     "outputs_hidden": true
    },
    "tags": []
   },
   "outputs": [
    {
     "data": {
      "text/html": [
       "<div>\n",
       "<style scoped>\n",
       "    .dataframe tbody tr th:only-of-type {\n",
       "        vertical-align: middle;\n",
       "    }\n",
       "\n",
       "    .dataframe tbody tr th {\n",
       "        vertical-align: top;\n",
       "    }\n",
       "\n",
       "    .dataframe thead th {\n",
       "        text-align: right;\n",
       "    }\n",
       "</style>\n",
       "<table border=\"1\" class=\"dataframe\">\n",
       "  <thead>\n",
       "    <tr style=\"text-align: right;\">\n",
       "      <th></th>\n",
       "      <th>id</th>\n",
       "      <th>original_language</th>\n",
       "      <th>popularity</th>\n",
       "      <th>release_date</th>\n",
       "      <th>runtime</th>\n",
       "      <th>status</th>\n",
       "      <th>revenue</th>\n",
       "    </tr>\n",
       "  </thead>\n",
       "  <tbody>\n",
       "    <tr>\n",
       "      <th>0</th>\n",
       "      <td>391</td>\n",
       "      <td>it</td>\n",
       "      <td>3.800073</td>\n",
       "      <td>12/22/12</td>\n",
       "      <td>0.0</td>\n",
       "      <td>Released</td>\n",
       "      <td>10703234</td>\n",
       "    </tr>\n",
       "    <tr>\n",
       "      <th>1</th>\n",
       "      <td>592</td>\n",
       "      <td>ru</td>\n",
       "      <td>0.402368</td>\n",
       "      <td>12/4/03</td>\n",
       "      <td>0.0</td>\n",
       "      <td>Released</td>\n",
       "      <td>234748</td>\n",
       "    </tr>\n",
       "    <tr>\n",
       "      <th>2</th>\n",
       "      <td>925</td>\n",
       "      <td>es</td>\n",
       "      <td>1.926826</td>\n",
       "      <td>11/15/13</td>\n",
       "      <td>0.0</td>\n",
       "      <td>Released</td>\n",
       "      <td>850259</td>\n",
       "    </tr>\n",
       "    <tr>\n",
       "      <th>3</th>\n",
       "      <td>978</td>\n",
       "      <td>it</td>\n",
       "      <td>5.010563</td>\n",
       "      <td>10/27/11</td>\n",
       "      <td>0.0</td>\n",
       "      <td>Released</td>\n",
       "      <td>12935800</td>\n",
       "    </tr>\n",
       "    <tr>\n",
       "      <th>4</th>\n",
       "      <td>1256</td>\n",
       "      <td>it</td>\n",
       "      <td>1.623440</td>\n",
       "      <td>8/25/75</td>\n",
       "      <td>0.0</td>\n",
       "      <td>Released</td>\n",
       "      <td>39598448</td>\n",
       "    </tr>\n",
       "  </tbody>\n",
       "</table>\n",
       "</div>"
      ],
      "text/plain": [
       "     id original_language  popularity release_date  runtime    status  \\\n",
       "0   391                it    3.800073     12/22/12      0.0  Released   \n",
       "1   592                ru    0.402368      12/4/03      0.0  Released   \n",
       "2   925                es    1.926826     11/15/13      0.0  Released   \n",
       "3   978                it    5.010563     10/27/11      0.0  Released   \n",
       "4  1256                it    1.623440      8/25/75      0.0  Released   \n",
       "\n",
       "    revenue  \n",
       "0  10703234  \n",
       "1    234748  \n",
       "2    850259  \n",
       "3  12935800  \n",
       "4  39598448  "
      ]
     },
     "execution_count": 3,
     "metadata": {},
     "output_type": "execute_result"
    }
   ],
   "source": [
    "dffilm.drop(['belongs_to_collection','budget','genres','homepage',\n",
    "            'imdb_id','spoken_languages','overview','title','poster_path','production_companies',\n",
    "            'production_countries','original_title','tagline','Keywords','cast','crew'], axis=1, inplace=True)\n",
    "dffilm.head()"
   ]
  },
  {
   "cell_type": "code",
   "execution_count": 4,
   "id": "b54c3d5f-8da9-4e69-82bc-6f60b16c5a1c",
   "metadata": {
    "tags": []
   },
   "outputs": [
    {
     "data": {
      "text/plain": [
       "0        10703234\n",
       "1          234748\n",
       "2          850259\n",
       "3        12935800\n",
       "4        39598448\n",
       "          ...    \n",
       "2995    122700000\n",
       "2996     71000000\n",
       "2997       871279\n",
       "2998        31000\n",
       "2999        65335\n",
       "Name: revenue, Length: 3000, dtype: int64"
      ]
     },
     "execution_count": 4,
     "metadata": {},
     "output_type": "execute_result"
    }
   ],
   "source": [
    "#plt.scatter(dffilm.original_language,dffilm.revenue)\n",
    "dffilm.revenue"
   ]
  },
  {
   "cell_type": "code",
   "execution_count": 5,
   "id": "5d26828a-0dc1-4597-8b8a-9efec1c04256",
   "metadata": {},
   "outputs": [
    {
     "name": "stderr",
     "output_type": "stream",
     "text": [
      "/var/folders/23/mc3swhfd7ts230fqc9_j4xqw0000gn/T/ipykernel_9102/3183302430.py:6: SettingWithCopyWarning: \n",
      "A value is trying to be set on a copy of a slice from a DataFrame\n",
      "\n",
      "See the caveats in the documentation: https://pandas.pydata.org/pandas-docs/stable/user_guide/indexing.html#returning-a-view-versus-a-copy\n",
      "  X_releasedate.release_date[m]= dt.month\n",
      "/var/folders/23/mc3swhfd7ts230fqc9_j4xqw0000gn/T/ipykernel_9102/3183302430.py:12: SettingWithCopyWarning: \n",
      "A value is trying to be set on a copy of a slice from a DataFrame\n",
      "\n",
      "See the caveats in the documentation: https://pandas.pydata.org/pandas-docs/stable/user_guide/indexing.html#returning-a-view-versus-a-copy\n",
      "  X_releasedate.original_language[i] = 0\n",
      "/var/folders/23/mc3swhfd7ts230fqc9_j4xqw0000gn/T/ipykernel_9102/3183302430.py:10: SettingWithCopyWarning: \n",
      "A value is trying to be set on a copy of a slice from a DataFrame\n",
      "\n",
      "See the caveats in the documentation: https://pandas.pydata.org/pandas-docs/stable/user_guide/indexing.html#returning-a-view-versus-a-copy\n",
      "  X_releasedate.original_language[i] = 1\n",
      "/var/folders/23/mc3swhfd7ts230fqc9_j4xqw0000gn/T/ipykernel_9102/3183302430.py:17: SettingWithCopyWarning: \n",
      "A value is trying to be set on a copy of a slice from a DataFrame\n",
      "\n",
      "See the caveats in the documentation: https://pandas.pydata.org/pandas-docs/stable/user_guide/indexing.html#returning-a-view-versus-a-copy\n",
      "  X_releasedate.status[j] = 1\n",
      "/var/folders/23/mc3swhfd7ts230fqc9_j4xqw0000gn/T/ipykernel_9102/3183302430.py:19: SettingWithCopyWarning: \n",
      "A value is trying to be set on a copy of a slice from a DataFrame\n",
      "\n",
      "See the caveats in the documentation: https://pandas.pydata.org/pandas-docs/stable/user_guide/indexing.html#returning-a-view-versus-a-copy\n",
      "  X_releasedate.status[j] = 0\n"
     ]
    },
    {
     "data": {
      "text/html": [
       "<div>\n",
       "<style scoped>\n",
       "    .dataframe tbody tr th:only-of-type {\n",
       "        vertical-align: middle;\n",
       "    }\n",
       "\n",
       "    .dataframe tbody tr th {\n",
       "        vertical-align: top;\n",
       "    }\n",
       "\n",
       "    .dataframe thead th {\n",
       "        text-align: right;\n",
       "    }\n",
       "</style>\n",
       "<table border=\"1\" class=\"dataframe\">\n",
       "  <thead>\n",
       "    <tr style=\"text-align: right;\">\n",
       "      <th></th>\n",
       "      <th>id</th>\n",
       "      <th>original_language</th>\n",
       "      <th>popularity</th>\n",
       "      <th>release_date</th>\n",
       "      <th>runtime</th>\n",
       "      <th>status</th>\n",
       "      <th>revenue</th>\n",
       "    </tr>\n",
       "  </thead>\n",
       "  <tbody>\n",
       "    <tr>\n",
       "      <th>12</th>\n",
       "      <td>2578</td>\n",
       "      <td>1</td>\n",
       "      <td>0.209191</td>\n",
       "      <td>6</td>\n",
       "      <td>11.0</td>\n",
       "      <td>1</td>\n",
       "      <td>97</td>\n",
       "    </tr>\n",
       "    <tr>\n",
       "      <th>13</th>\n",
       "      <td>776</td>\n",
       "      <td>1</td>\n",
       "      <td>2.923870</td>\n",
       "      <td>4</td>\n",
       "      <td>40.0</td>\n",
       "      <td>1</td>\n",
       "      <td>7732325</td>\n",
       "    </tr>\n",
       "    <tr>\n",
       "      <th>14</th>\n",
       "      <td>1021</td>\n",
       "      <td>1</td>\n",
       "      <td>1.081517</td>\n",
       "      <td>2</td>\n",
       "      <td>40.0</td>\n",
       "      <td>1</td>\n",
       "      <td>87600000</td>\n",
       "    </tr>\n",
       "    <tr>\n",
       "      <th>15</th>\n",
       "      <td>225</td>\n",
       "      <td>1</td>\n",
       "      <td>0.410738</td>\n",
       "      <td>5</td>\n",
       "      <td>53.0</td>\n",
       "      <td>1</td>\n",
       "      <td>500</td>\n",
       "    </tr>\n",
       "    <tr>\n",
       "      <th>16</th>\n",
       "      <td>1008</td>\n",
       "      <td>1</td>\n",
       "      <td>0.007877</td>\n",
       "      <td>2</td>\n",
       "      <td>60.0</td>\n",
       "      <td>0</td>\n",
       "      <td>60</td>\n",
       "    </tr>\n",
       "    <tr>\n",
       "      <th>...</th>\n",
       "      <td>...</td>\n",
       "      <td>...</td>\n",
       "      <td>...</td>\n",
       "      <td>...</td>\n",
       "      <td>...</td>\n",
       "      <td>...</td>\n",
       "      <td>...</td>\n",
       "    </tr>\n",
       "    <tr>\n",
       "      <th>2995</th>\n",
       "      <td>524</td>\n",
       "      <td>1</td>\n",
       "      <td>11.147040</td>\n",
       "      <td>10</td>\n",
       "      <td>220.0</td>\n",
       "      <td>1</td>\n",
       "      <td>122700000</td>\n",
       "    </tr>\n",
       "    <tr>\n",
       "      <th>2996</th>\n",
       "      <td>1923</td>\n",
       "      <td>1</td>\n",
       "      <td>8.591238</td>\n",
       "      <td>6</td>\n",
       "      <td>248.0</td>\n",
       "      <td>1</td>\n",
       "      <td>71000000</td>\n",
       "    </tr>\n",
       "    <tr>\n",
       "      <th>2997</th>\n",
       "      <td>1212</td>\n",
       "      <td>1</td>\n",
       "      <td>4.558075</td>\n",
       "      <td>5</td>\n",
       "      <td>338.0</td>\n",
       "      <td>1</td>\n",
       "      <td>871279</td>\n",
       "    </tr>\n",
       "    <tr>\n",
       "      <th>2998</th>\n",
       "      <td>1336</td>\n",
       "      <td>0</td>\n",
       "      <td>0.292296</td>\n",
       "      <td>10</td>\n",
       "      <td>NaN</td>\n",
       "      <td>1</td>\n",
       "      <td>31000</td>\n",
       "    </tr>\n",
       "    <tr>\n",
       "      <th>2999</th>\n",
       "      <td>2303</td>\n",
       "      <td>0</td>\n",
       "      <td>0.002229</td>\n",
       "      <td>3</td>\n",
       "      <td>NaN</td>\n",
       "      <td>1</td>\n",
       "      <td>65335</td>\n",
       "    </tr>\n",
       "  </tbody>\n",
       "</table>\n",
       "<p>2988 rows × 7 columns</p>\n",
       "</div>"
      ],
      "text/plain": [
       "        id original_language  popularity release_date  runtime status  \\\n",
       "12    2578                 1    0.209191            6     11.0      1   \n",
       "13     776                 1    2.923870            4     40.0      1   \n",
       "14    1021                 1    1.081517            2     40.0      1   \n",
       "15     225                 1    0.410738            5     53.0      1   \n",
       "16    1008                 1    0.007877            2     60.0      0   \n",
       "...    ...               ...         ...          ...      ...    ...   \n",
       "2995   524                 1   11.147040           10    220.0      1   \n",
       "2996  1923                 1    8.591238            6    248.0      1   \n",
       "2997  1212                 1    4.558075            5    338.0      1   \n",
       "2998  1336                 0    0.292296           10      NaN      1   \n",
       "2999  2303                 0    0.002229            3      NaN      1   \n",
       "\n",
       "        revenue  \n",
       "12           97  \n",
       "13      7732325  \n",
       "14     87600000  \n",
       "15          500  \n",
       "16           60  \n",
       "...         ...  \n",
       "2995  122700000  \n",
       "2996   71000000  \n",
       "2997     871279  \n",
       "2998      31000  \n",
       "2999      65335  \n",
       "\n",
       "[2988 rows x 7 columns]"
      ]
     },
     "execution_count": 5,
     "metadata": {},
     "output_type": "execute_result"
    }
   ],
   "source": [
    "X_releasedate =dffilm\n",
    "for m in range(0,len(dffilm.release_date)):\n",
    "    film_date = dffilm.release_date[m]\n",
    "    dt = datetime.strptime(film_date, '%m/%d/%y')\n",
    "    #dffilm.release_date[m] = datetime_object.timetuple().tm_yday\n",
    "    X_releasedate.release_date[m]= dt.month\n",
    "    \n",
    "for i in range(0,len(dffilm.original_language)):\n",
    "    if dffilm.original_language[i]== 'en':\n",
    "        X_releasedate.original_language[i] = 1\n",
    "    else:\n",
    "        X_releasedate.original_language[i] = 0\n",
    "        \n",
    "\n",
    "for j in range(0,len(dffilm.status)):\n",
    "    if dffilm.status[j]== 'Released':\n",
    "        X_releasedate.status[j] = 1\n",
    "    else:\n",
    "        X_releasedate.status[j] = 0        \n",
    "        \n",
    "\n",
    "X_releasedate =X_releasedate[X_releasedate['runtime'] !=0]\n",
    "X_releasedate =X_releasedate[X_releasedate['revenue'] !=0]\n",
    "X_releasedate"
   ]
  },
  {
   "cell_type": "code",
   "execution_count": 7,
   "id": "ad02e1bc-2caa-4012-ae72-2c2c7612d39f",
   "metadata": {
    "tags": []
   },
   "outputs": [],
   "source": [
    "X_releasedate['release_date']=X_releasedate.release_date.astype('int64')\n",
    "X_releasedate['original_language']=X_releasedate.original_language.astype('int64')\n",
    "X_releasedate['status']=X_releasedate.status.astype('int64')"
   ]
  },
  {
   "cell_type": "code",
   "execution_count": 8,
   "id": "57fd258c-4b74-49d4-bc13-a3f53b818311",
   "metadata": {},
   "outputs": [],
   "source": [
    "X = X_releasedate.dropna().copy()\n"
   ]
  },
  {
   "cell_type": "code",
   "execution_count": 9,
   "id": "c7831cea-c08a-41b0-ba3a-63bca6c30f5b",
   "metadata": {},
   "outputs": [
    {
     "data": {
      "text/html": [
       "<div>\n",
       "<style scoped>\n",
       "    .dataframe tbody tr th:only-of-type {\n",
       "        vertical-align: middle;\n",
       "    }\n",
       "\n",
       "    .dataframe tbody tr th {\n",
       "        vertical-align: top;\n",
       "    }\n",
       "\n",
       "    .dataframe thead th {\n",
       "        text-align: right;\n",
       "    }\n",
       "</style>\n",
       "<table border=\"1\" class=\"dataframe\">\n",
       "  <thead>\n",
       "    <tr style=\"text-align: right;\">\n",
       "      <th></th>\n",
       "      <th>id</th>\n",
       "      <th>original_language</th>\n",
       "      <th>popularity</th>\n",
       "      <th>release_date</th>\n",
       "      <th>runtime</th>\n",
       "      <th>status</th>\n",
       "      <th>revenue</th>\n",
       "    </tr>\n",
       "  </thead>\n",
       "  <tbody>\n",
       "    <tr>\n",
       "      <th>12</th>\n",
       "      <td>2578</td>\n",
       "      <td>1</td>\n",
       "      <td>0.209191</td>\n",
       "      <td>6</td>\n",
       "      <td>11.0</td>\n",
       "      <td>1</td>\n",
       "      <td>97</td>\n",
       "    </tr>\n",
       "    <tr>\n",
       "      <th>13</th>\n",
       "      <td>776</td>\n",
       "      <td>1</td>\n",
       "      <td>2.923870</td>\n",
       "      <td>4</td>\n",
       "      <td>40.0</td>\n",
       "      <td>1</td>\n",
       "      <td>7732325</td>\n",
       "    </tr>\n",
       "    <tr>\n",
       "      <th>14</th>\n",
       "      <td>1021</td>\n",
       "      <td>1</td>\n",
       "      <td>1.081517</td>\n",
       "      <td>2</td>\n",
       "      <td>40.0</td>\n",
       "      <td>1</td>\n",
       "      <td>87600000</td>\n",
       "    </tr>\n",
       "    <tr>\n",
       "      <th>15</th>\n",
       "      <td>225</td>\n",
       "      <td>1</td>\n",
       "      <td>0.410738</td>\n",
       "      <td>5</td>\n",
       "      <td>53.0</td>\n",
       "      <td>1</td>\n",
       "      <td>500</td>\n",
       "    </tr>\n",
       "    <tr>\n",
       "      <th>16</th>\n",
       "      <td>1008</td>\n",
       "      <td>1</td>\n",
       "      <td>0.007877</td>\n",
       "      <td>2</td>\n",
       "      <td>60.0</td>\n",
       "      <td>0</td>\n",
       "      <td>60</td>\n",
       "    </tr>\n",
       "    <tr>\n",
       "      <th>...</th>\n",
       "      <td>...</td>\n",
       "      <td>...</td>\n",
       "      <td>...</td>\n",
       "      <td>...</td>\n",
       "      <td>...</td>\n",
       "      <td>...</td>\n",
       "      <td>...</td>\n",
       "    </tr>\n",
       "    <tr>\n",
       "      <th>2993</th>\n",
       "      <td>1915</td>\n",
       "      <td>1</td>\n",
       "      <td>5.374563</td>\n",
       "      <td>2</td>\n",
       "      <td>214.0</td>\n",
       "      <td>1</td>\n",
       "      <td>12923936</td>\n",
       "    </tr>\n",
       "    <tr>\n",
       "      <th>2994</th>\n",
       "      <td>1303</td>\n",
       "      <td>1</td>\n",
       "      <td>4.393576</td>\n",
       "      <td>11</td>\n",
       "      <td>219.0</td>\n",
       "      <td>1</td>\n",
       "      <td>3484331</td>\n",
       "    </tr>\n",
       "    <tr>\n",
       "      <th>2995</th>\n",
       "      <td>524</td>\n",
       "      <td>1</td>\n",
       "      <td>11.147040</td>\n",
       "      <td>10</td>\n",
       "      <td>220.0</td>\n",
       "      <td>1</td>\n",
       "      <td>122700000</td>\n",
       "    </tr>\n",
       "    <tr>\n",
       "      <th>2996</th>\n",
       "      <td>1923</td>\n",
       "      <td>1</td>\n",
       "      <td>8.591238</td>\n",
       "      <td>6</td>\n",
       "      <td>248.0</td>\n",
       "      <td>1</td>\n",
       "      <td>71000000</td>\n",
       "    </tr>\n",
       "    <tr>\n",
       "      <th>2997</th>\n",
       "      <td>1212</td>\n",
       "      <td>1</td>\n",
       "      <td>4.558075</td>\n",
       "      <td>5</td>\n",
       "      <td>338.0</td>\n",
       "      <td>1</td>\n",
       "      <td>871279</td>\n",
       "    </tr>\n",
       "  </tbody>\n",
       "</table>\n",
       "<p>2986 rows × 7 columns</p>\n",
       "</div>"
      ],
      "text/plain": [
       "        id  original_language  popularity  release_date  runtime  status  \\\n",
       "12    2578                  1    0.209191             6     11.0       1   \n",
       "13     776                  1    2.923870             4     40.0       1   \n",
       "14    1021                  1    1.081517             2     40.0       1   \n",
       "15     225                  1    0.410738             5     53.0       1   \n",
       "16    1008                  1    0.007877             2     60.0       0   \n",
       "...    ...                ...         ...           ...      ...     ...   \n",
       "2993  1915                  1    5.374563             2    214.0       1   \n",
       "2994  1303                  1    4.393576            11    219.0       1   \n",
       "2995   524                  1   11.147040            10    220.0       1   \n",
       "2996  1923                  1    8.591238             6    248.0       1   \n",
       "2997  1212                  1    4.558075             5    338.0       1   \n",
       "\n",
       "        revenue  \n",
       "12           97  \n",
       "13      7732325  \n",
       "14     87600000  \n",
       "15          500  \n",
       "16           60  \n",
       "...         ...  \n",
       "2993   12923936  \n",
       "2994    3484331  \n",
       "2995  122700000  \n",
       "2996   71000000  \n",
       "2997     871279  \n",
       "\n",
       "[2986 rows x 7 columns]"
      ]
     },
     "execution_count": 9,
     "metadata": {},
     "output_type": "execute_result"
    }
   ],
   "source": [
    "\n",
    "X=X_releasedate.dropna()\n",
    "y=X_releasedate.dropna()\n",
    "#X.drop(['id','popularity','release_date','runtime','original_language','revenue'], axis=1, inplace=True)\n",
    "#y.drop(['id','popularity','release_date','runtime','status','original_language'], axis=1, inplace=True)\n",
    "X.shape\n",
    "y.shape\n",
    "X"
   ]
  },
  {
   "cell_type": "code",
   "execution_count": 13,
   "id": "c506d0c1-db9c-4d70-aa11-0953a0c3a9d8",
   "metadata": {
    "tags": []
   },
   "outputs": [
    {
     "data": {
      "text/plain": [
       "<matplotlib.collections.PathCollection at 0x7fbd6ce13640>"
      ]
     },
     "execution_count": 13,
     "metadata": {},
     "output_type": "execute_result"
    },
    {
     "data": {
      "image/png": "[encoded data removed]",
      "text/plain": [
       "<Figure size 432x288 with 1 Axes>"
      ]
     },
     "metadata": {
      "needs_background": "light"
     },
     "output_type": "display_data"
    }
   ],
   "source": [
    "plt.scatter(X.runtime,y.revenue)\n",
    "#plt.scatter(X,y)"
   ]
  },
  {
   "cell_type": "code",
   "execution_count": 14,
   "id": "a5a9b836-42a1-4850-9a22-a557c20a17da",
   "metadata": {},
   "outputs": [],
   "source": [
    "#X = X_releasedate.reshape(-1, 1)\n",
    "#X[:5]"
   ]
  },
  {
   "cell_type": "code",
   "execution_count": 15,
   "id": "adaa6458-1103-4cbe-bd35-4185479342e2",
   "metadata": {},
   "outputs": [
    {
     "data": {
      "text/plain": [
       "(2986, 7)"
      ]
     },
     "execution_count": 15,
     "metadata": {},
     "output_type": "execute_result"
    }
   ],
   "source": [
    "X.shape"
   ]
  },
  {
   "cell_type": "code",
   "execution_count": 16,
   "id": "377f0b67-ae4d-4637-8ec7-d608de0aacbc",
   "metadata": {},
   "outputs": [
    {
     "data": {
      "text/plain": [
       "(2986, 7)"
      ]
     },
     "execution_count": 16,
     "metadata": {},
     "output_type": "execute_result"
    }
   ],
   "source": [
    "y.shape"
   ]
  },
  {
   "cell_type": "code",
   "execution_count": 17,
   "id": "1236ff01-1713-40cf-a542-c8666961e415",
   "metadata": {},
   "outputs": [
    {
     "data": {
      "text/plain": [
       "LinearRegression()"
      ]
     },
     "execution_count": 17,
     "metadata": {},
     "output_type": "execute_result"
    }
   ],
   "source": [
    "model = LinearRegression()\n",
    "model\n",
    "\n",
    "\n",
    "# Fit the data into the model\n",
    "model.fit(X, y)"
   ]
  },
  {
   "cell_type": "code",
   "execution_count": 18,
   "id": "c47702fe-c028-48c6-9622-ee29387e10c8",
   "metadata": {},
   "outputs": [
    {
     "name": "stdout",
     "output_type": "stream",
     "text": [
      "[[ 1.00000000e+00 -2.25455800e-15  2.49284410e-17 -4.96918307e-17\n",
      "   1.03779633e-16  3.12171649e-16  7.43706113e-19]\n",
      " [-1.23286530e-13  1.00000000e+00 -3.74832629e-10 -1.41769179e-10\n",
      "   7.43146102e-11  5.02985956e-10 -1.11018423e-16]\n",
      " [ 8.15557611e-19 -9.79542628e-14  1.00000000e+00  3.90440466e-16\n",
      "  -3.90106871e-17  9.94671960e-16 -6.65984552e-22]\n",
      " [ 9.76510024e-19  6.13908850e-14  8.64898295e-17  1.00000000e+00\n",
      "   4.18186668e-17 -2.32602824e-16  1.19372243e-22]\n",
      " [ 3.90262049e-17  3.99317310e-13  1.11504228e-15 -3.98261978e-16\n",
      "   1.00000000e+00 -1.20753686e-13  2.52405493e-22]\n",
      " [ 4.52480725e-21  6.62731165e-16 -1.50043335e-18 -1.05024351e-18\n",
      "  -9.28585970e-19  1.00000000e+00  3.43528566e-24]\n",
      " [ 8.02779710e-13  1.94838787e-07  1.74526205e-09  1.19855183e-10\n",
      "   5.99343248e-10 -1.53291447e-09  1.00000000e+00]]\n"
     ]
    }
   ],
   "source": [
    "# The slope\n",
    "print(model.coef_)"
   ]
  },
  {
   "cell_type": "code",
   "execution_count": 19,
   "id": "95e7c7bc-a64c-481e-867c-aa0211548bc4",
   "metadata": {},
   "outputs": [
    {
     "name": "stdout",
     "output_type": "stream",
     "text": [
      "[-4.95674612e-11  3.10823156e-09  1.27897692e-13 -7.19424520e-14\n",
      " -3.12638804e-13  3.33066907e-16 -2.68220901e-07]\n"
     ]
    }
   ],
   "source": [
    "# The y-intercept\n",
    "print(model.intercept_)"
   ]
  },
  {
   "cell_type": "code",
   "execution_count": 20,
   "id": "8525f2bf-ce71-4fcf-b46f-9e4d74a3dab1",
   "metadata": {},
   "outputs": [
    {
     "name": "stdout",
     "output_type": "stream",
     "text": [
      "        id  original_language  popularity  release_date  runtime  status  \\\n",
      "12    2578                  1    0.209191             6     11.0       1   \n",
      "13     776                  1    2.923870             4     40.0       1   \n",
      "14    1021                  1    1.081517             2     40.0       1   \n",
      "15     225                  1    0.410738             5     53.0       1   \n",
      "16    1008                  1    0.007877             2     60.0       0   \n",
      "...    ...                ...         ...           ...      ...     ...   \n",
      "2993  1915                  1    5.374563             2    214.0       1   \n",
      "2994  1303                  1    4.393576            11    219.0       1   \n",
      "2995   524                  1   11.147040            10    220.0       1   \n",
      "2996  1923                  1    8.591238             6    248.0       1   \n",
      "2997  1212                  1    4.558075             5    338.0       1   \n",
      "\n",
      "        revenue  \n",
      "12           97  \n",
      "13      7732325  \n",
      "14     87600000  \n",
      "15          500  \n",
      "16           60  \n",
      "...         ...  \n",
      "2993   12923936  \n",
      "2994    3484331  \n",
      "2995  122700000  \n",
      "2996   71000000  \n",
      "2997     871279  \n",
      "\n",
      "[2986 rows x 7 columns]\n"
     ]
    }
   ],
   "source": [
    "# The model creates predicted y values based on X values\n",
    "predicted_y_values = model.predict(X)\n",
    "print(X)"
   ]
  },
  {
   "cell_type": "code",
   "execution_count": 24,
   "id": "be077852-c525-4ddd-8d77-15953868a188",
   "metadata": {},
   "outputs": [
    {
     "data": {
      "text/plain": [
       "[<matplotlib.lines.Line2D at 0x7fbd6a91bcd0>,\n",
       " <matplotlib.lines.Line2D at 0x7fbd6a91beb0>,\n",
       " <matplotlib.lines.Line2D at 0x7fbd6a921070>,\n",
       " <matplotlib.lines.Line2D at 0x7fbd6a921130>,\n",
       " <matplotlib.lines.Line2D at 0x7fbd6a9211f0>,\n",
       " <matplotlib.lines.Line2D at 0x7fbd6a9212b0>,\n",
       " <matplotlib.lines.Line2D at 0x7fbd6a921370>]"
      ]
     },
     "execution_count": 24,
     "metadata": {},
     "output_type": "execute_result"
    },
    {
     "data": {
      "image/png": "[encoded data removed]",
      "text/plain": [
       "<Figure size 432x288 with 1 Axes>"
      ]
     },
     "metadata": {
      "needs_background": "light"
     },
     "output_type": "display_data"
    }
   ],
   "source": [
    "#Plot the results. The best fit line is red.\n",
    "plt.scatter(X.runtime, y.revenue)\n",
    "plt.plot(X.runtime,predicted_y_values,color='red')"
   ]
  },
  {
   "cell_type": "code",
   "execution_count": 22,
   "id": "4a742ad7-8dbc-46be-ab63-6e021c8318b7",
   "metadata": {
    "tags": []
   },
   "outputs": [],
   "source": [
    "X=y.drop('revenue',axis=1).copy()\n",
    "# Splitting into Train and Test sets\n",
    "#X_train,X_test,y_train,y_test = train_test_split(X, y, random_state=1, stratify=y)\n",
    "#X_train,X_test,y_train,y_test = train_test_split(X, y,random_state=78)"
   ]
  },
  {
   "cell_type": "code",
   "execution_count": 11,
   "id": "b60f6577-de41-4a41-8263-3744a3a0dc53",
   "metadata": {
    "tags": []
   },
   "outputs": [
    {
     "data": {
      "text/html": [
       "<div>\n",
       "<style scoped>\n",
       "    .dataframe tbody tr th:only-of-type {\n",
       "        vertical-align: middle;\n",
       "    }\n",
       "\n",
       "    .dataframe tbody tr th {\n",
       "        vertical-align: top;\n",
       "    }\n",
       "\n",
       "    .dataframe thead th {\n",
       "        text-align: right;\n",
       "    }\n",
       "</style>\n",
       "<table border=\"1\" class=\"dataframe\">\n",
       "  <thead>\n",
       "    <tr style=\"text-align: right;\">\n",
       "      <th></th>\n",
       "      <th>id</th>\n",
       "      <th>original_language</th>\n",
       "      <th>popularity</th>\n",
       "      <th>release_date</th>\n",
       "      <th>runtime</th>\n",
       "      <th>status</th>\n",
       "    </tr>\n",
       "  </thead>\n",
       "  <tbody>\n",
       "    <tr>\n",
       "      <th>2629</th>\n",
       "      <td>2630</td>\n",
       "      <td>1</td>\n",
       "      <td>14.657754</td>\n",
       "      <td>3</td>\n",
       "      <td>89.0</td>\n",
       "      <td>1</td>\n",
       "    </tr>\n",
       "    <tr>\n",
       "      <th>850</th>\n",
       "      <td>851</td>\n",
       "      <td>1</td>\n",
       "      <td>9.424157</td>\n",
       "      <td>9</td>\n",
       "      <td>121.0</td>\n",
       "      <td>1</td>\n",
       "    </tr>\n",
       "    <tr>\n",
       "      <th>1171</th>\n",
       "      <td>1172</td>\n",
       "      <td>1</td>\n",
       "      <td>13.371056</td>\n",
       "      <td>4</td>\n",
       "      <td>92.0</td>\n",
       "      <td>1</td>\n",
       "    </tr>\n",
       "    <tr>\n",
       "      <th>1529</th>\n",
       "      <td>1530</td>\n",
       "      <td>1</td>\n",
       "      <td>1.650666</td>\n",
       "      <td>5</td>\n",
       "      <td>111.0</td>\n",
       "      <td>1</td>\n",
       "    </tr>\n",
       "    <tr>\n",
       "      <th>830</th>\n",
       "      <td>831</td>\n",
       "      <td>1</td>\n",
       "      <td>2.447359</td>\n",
       "      <td>12</td>\n",
       "      <td>139.0</td>\n",
       "      <td>1</td>\n",
       "    </tr>\n",
       "    <tr>\n",
       "      <th>...</th>\n",
       "      <td>...</td>\n",
       "      <td>...</td>\n",
       "      <td>...</td>\n",
       "      <td>...</td>\n",
       "      <td>...</td>\n",
       "      <td>...</td>\n",
       "    </tr>\n",
       "    <tr>\n",
       "      <th>2154</th>\n",
       "      <td>2155</td>\n",
       "      <td>0</td>\n",
       "      <td>0.878255</td>\n",
       "      <td>9</td>\n",
       "      <td>99.0</td>\n",
       "      <td>1</td>\n",
       "    </tr>\n",
       "    <tr>\n",
       "      <th>40</th>\n",
       "      <td>41</td>\n",
       "      <td>1</td>\n",
       "      <td>2.941626</td>\n",
       "      <td>4</td>\n",
       "      <td>118.0</td>\n",
       "      <td>1</td>\n",
       "    </tr>\n",
       "    <tr>\n",
       "      <th>1944</th>\n",
       "      <td>1945</td>\n",
       "      <td>1</td>\n",
       "      <td>7.798615</td>\n",
       "      <td>3</td>\n",
       "      <td>108.0</td>\n",
       "      <td>1</td>\n",
       "    </tr>\n",
       "    <tr>\n",
       "      <th>470</th>\n",
       "      <td>471</td>\n",
       "      <td>1</td>\n",
       "      <td>0.079856</td>\n",
       "      <td>9</td>\n",
       "      <td>120.0</td>\n",
       "      <td>1</td>\n",
       "    </tr>\n",
       "    <tr>\n",
       "      <th>2759</th>\n",
       "      <td>2760</td>\n",
       "      <td>1</td>\n",
       "      <td>0.084720</td>\n",
       "      <td>6</td>\n",
       "      <td>98.0</td>\n",
       "      <td>1</td>\n",
       "    </tr>\n",
       "  </tbody>\n",
       "</table>\n",
       "<p>2248 rows × 6 columns</p>\n",
       "</div>"
      ],
      "text/plain": [
       "        id  original_language  popularity  release_date  runtime  status\n",
       "2629  2630                  1   14.657754             3     89.0       1\n",
       "850    851                  1    9.424157             9    121.0       1\n",
       "1171  1172                  1   13.371056             4     92.0       1\n",
       "1529  1530                  1    1.650666             5    111.0       1\n",
       "830    831                  1    2.447359            12    139.0       1\n",
       "...    ...                ...         ...           ...      ...     ...\n",
       "2154  2155                  0    0.878255             9     99.0       1\n",
       "40      41                  1    2.941626             4    118.0       1\n",
       "1944  1945                  1    7.798615             3    108.0       1\n",
       "470    471                  1    0.079856             9    120.0       1\n",
       "2759  2760                  1    0.084720             6     98.0       1\n",
       "\n",
       "[2248 rows x 6 columns]"
      ]
     },
     "execution_count": 11,
     "metadata": {},
     "output_type": "execute_result"
    }
   ],
   "source": [
    "X_test\n",
    "y_train\n",
    "y_test\n",
    "\n",
    "X_train\n",
    "\n"
   ]
  },
  {
   "cell_type": "code",
   "execution_count": 22,
   "id": "3c0d557c-ad9c-4929-9fa2-46f710c8d068",
   "metadata": {},
   "outputs": [
    {
     "data": {
      "text/plain": [
       "count    2998.000000\n",
       "mean      107.856571\n",
       "std        22.086434\n",
       "min         0.000000\n",
       "25%        94.000000\n",
       "50%       104.000000\n",
       "75%       118.000000\n",
       "max       338.000000\n",
       "Name: runtime, dtype: float64"
      ]
     },
     "execution_count": 22,
     "metadata": {},
     "output_type": "execute_result"
    }
   ],
   "source": [
    "dffilm['runtime'].describe()"
   ]
  },
  {
   "cell_type": "code",
   "execution_count": null,
   "id": "61207c41-5a6e-4d0e-9831-59bda8833064",
   "metadata": {},
   "outputs": [],
   "source": []
  },
  {
   "cell_type": "code",
   "execution_count": null,
   "id": "d0a96e5a-bd57-44a8-8f05-62acf1ee0162",
   "metadata": {},
   "outputs": [],
   "source": []
  }
 ],
 "metadata": {
  "kernelspec": {
   "display_name": "Python 3 (ipykernel)",
   "language": "python",
   "name": "python3"
  },
  "language_info": {
   "codemirror_mode": {
    "name": "ipython",
    "version": 3
   },
   "file_extension": ".py",
   "mimetype": "text/x-python",
   "name": "python",
   "nbconvert_exporter": "python",
   "pygments_lexer": "ipython3",
   "version": "3.8.2"
  }
 },
 "nbformat": 4,
 "nbformat_minor": 5
}
