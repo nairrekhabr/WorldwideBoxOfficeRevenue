{
 "cells": [
  {
   "cell_type": "code",
   "execution_count": 1,
   "id": "1f135b60-852b-4d26-b367-0e0926bf130c",
   "metadata": {
    "tags": []
   },
   "outputs": [],
   "source": [
    "import pandas as pd\n",
    "from pathlib import Path\n",
    "import matplotlib.pyplot as plt\n",
    "from sklearn.ensemble import RandomForestClassifier\n",
    "from sklearn.linear_model import LinearRegression\n",
    "from sklearn.model_selection import train_test_split\n",
    "%matplotlib inline\n",
    "from sklearn.preprocessing import StandardScaler\n",
    "from sklearn.metrics import confusion_matrix, accuracy_score, classification_report\n",
    "from datetime import datetime\n",
    "from sklearn.compose import ColumnTransformer\n",
    "from sklearn.preprocessing import OneHotEncoder"
   ]
  },
  {
   "cell_type": "code",
   "execution_count": 2,
   "id": "7a09aa1e-fb39-40a5-9687-f63ce315745a",
   "metadata": {
    "tags": []
   },
   "outputs": [],
   "source": [
    "dffilm = pd.read_csv(Path('./Resources/train.csv'))"
   ]
  },
  {
   "cell_type": "code",
   "execution_count": 3,
   "id": "c4cfddf8-7eee-43f5-9c11-3f64f1199884",
   "metadata": {
    "tags": []
   },
   "outputs": [
    {
     "data": {
      "text/html": [
       "<div>\n",
       "<style scoped>\n",
       "    .dataframe tbody tr th:only-of-type {\n",
       "        vertical-align: middle;\n",
       "    }\n",
       "\n",
       "    .dataframe tbody tr th {\n",
       "        vertical-align: top;\n",
       "    }\n",
       "\n",
       "    .dataframe thead th {\n",
       "        text-align: right;\n",
       "    }\n",
       "</style>\n",
       "<table border=\"1\" class=\"dataframe\">\n",
       "  <thead>\n",
       "    <tr style=\"text-align: right;\">\n",
       "      <th></th>\n",
       "      <th>id</th>\n",
       "      <th>original_language</th>\n",
       "      <th>popularity</th>\n",
       "      <th>release_date</th>\n",
       "      <th>runtime</th>\n",
       "      <th>status</th>\n",
       "      <th>revenue</th>\n",
       "    </tr>\n",
       "  </thead>\n",
       "  <tbody>\n",
       "    <tr>\n",
       "      <th>0</th>\n",
       "      <td>391</td>\n",
       "      <td>it</td>\n",
       "      <td>3.800073</td>\n",
       "      <td>12/22/12</td>\n",
       "      <td>0.0</td>\n",
       "      <td>Released</td>\n",
       "      <td>10703234</td>\n",
       "    </tr>\n",
       "    <tr>\n",
       "      <th>1</th>\n",
       "      <td>592</td>\n",
       "      <td>ru</td>\n",
       "      <td>0.402368</td>\n",
       "      <td>12/4/03</td>\n",
       "      <td>0.0</td>\n",
       "      <td>Released</td>\n",
       "      <td>234748</td>\n",
       "    </tr>\n",
       "    <tr>\n",
       "      <th>2</th>\n",
       "      <td>925</td>\n",
       "      <td>es</td>\n",
       "      <td>1.926826</td>\n",
       "      <td>11/15/13</td>\n",
       "      <td>0.0</td>\n",
       "      <td>Released</td>\n",
       "      <td>850259</td>\n",
       "    </tr>\n",
       "    <tr>\n",
       "      <th>3</th>\n",
       "      <td>978</td>\n",
       "      <td>it</td>\n",
       "      <td>5.010563</td>\n",
       "      <td>10/27/11</td>\n",
       "      <td>0.0</td>\n",
       "      <td>Released</td>\n",
       "      <td>12935800</td>\n",
       "    </tr>\n",
       "    <tr>\n",
       "      <th>4</th>\n",
       "      <td>1256</td>\n",
       "      <td>it</td>\n",
       "      <td>1.623440</td>\n",
       "      <td>8/25/75</td>\n",
       "      <td>0.0</td>\n",
       "      <td>Released</td>\n",
       "      <td>39598448</td>\n",
       "    </tr>\n",
       "  </tbody>\n",
       "</table>\n",
       "</div>"
      ],
      "text/plain": [
       "     id original_language  popularity release_date  runtime    status  \\\n",
       "0   391                it    3.800073     12/22/12      0.0  Released   \n",
       "1   592                ru    0.402368      12/4/03      0.0  Released   \n",
       "2   925                es    1.926826     11/15/13      0.0  Released   \n",
       "3   978                it    5.010563     10/27/11      0.0  Released   \n",
       "4  1256                it    1.623440      8/25/75      0.0  Released   \n",
       "\n",
       "    revenue  \n",
       "0  10703234  \n",
       "1    234748  \n",
       "2    850259  \n",
       "3  12935800  \n",
       "4  39598448  "
      ]
     },
     "execution_count": 3,
     "metadata": {},
     "output_type": "execute_result"
    }
   ],
   "source": [
    "dffilm.drop(['belongs_to_collection','budget','genres','homepage',\n",
    "            'imdb_id','spoken_languages','overview','title','poster_path','production_companies',\n",
    "            'production_countries','original_title','tagline','Keywords','cast','crew'], axis=1, inplace=True)\n",
    "dffilm.head()"
   ]
  },
  {
   "cell_type": "code",
   "execution_count": 4,
   "id": "b54c3d5f-8da9-4e69-82bc-6f60b16c5a1c",
   "metadata": {
    "tags": []
   },
   "outputs": [
    {
     "data": {
      "text/plain": [
       "0        10703234\n",
       "1          234748\n",
       "2          850259\n",
       "3        12935800\n",
       "4        39598448\n",
       "          ...    \n",
       "2995    122700000\n",
       "2996     71000000\n",
       "2997       871279\n",
       "2998        31000\n",
       "2999        65335\n",
       "Name: revenue, Length: 3000, dtype: int64"
      ]
     },
     "execution_count": 4,
     "metadata": {},
     "output_type": "execute_result"
    }
   ],
   "source": [
    "#plt.scatter(dffilm.original_language,dffilm.revenue)\n",
    "dffilm.revenue"
   ]
  },
  {
   "cell_type": "code",
   "execution_count": 5,
   "id": "5d26828a-0dc1-4597-8b8a-9efec1c04256",
   "metadata": {},
   "outputs": [
    {
     "name": "stderr",
     "output_type": "stream",
     "text": [
      "/var/folders/23/mc3swhfd7ts230fqc9_j4xqw0000gn/T/ipykernel_9197/4247714838.py:6: SettingWithCopyWarning: \n",
      "A value is trying to be set on a copy of a slice from a DataFrame\n",
      "\n",
      "See the caveats in the documentation: https://pandas.pydata.org/pandas-docs/stable/user_guide/indexing.html#returning-a-view-versus-a-copy\n",
      "  X_releasedate.release_date[m]= dt.month\n",
      "/var/folders/23/mc3swhfd7ts230fqc9_j4xqw0000gn/T/ipykernel_9197/4247714838.py:12: SettingWithCopyWarning: \n",
      "A value is trying to be set on a copy of a slice from a DataFrame\n",
      "\n",
      "See the caveats in the documentation: https://pandas.pydata.org/pandas-docs/stable/user_guide/indexing.html#returning-a-view-versus-a-copy\n",
      "  X_releasedate.original_language[i] = 0\n",
      "/var/folders/23/mc3swhfd7ts230fqc9_j4xqw0000gn/T/ipykernel_9197/4247714838.py:10: SettingWithCopyWarning: \n",
      "A value is trying to be set on a copy of a slice from a DataFrame\n",
      "\n",
      "See the caveats in the documentation: https://pandas.pydata.org/pandas-docs/stable/user_guide/indexing.html#returning-a-view-versus-a-copy\n",
      "  X_releasedate.original_language[i] = 1\n",
      "/var/folders/23/mc3swhfd7ts230fqc9_j4xqw0000gn/T/ipykernel_9197/4247714838.py:17: SettingWithCopyWarning: \n",
      "A value is trying to be set on a copy of a slice from a DataFrame\n",
      "\n",
      "See the caveats in the documentation: https://pandas.pydata.org/pandas-docs/stable/user_guide/indexing.html#returning-a-view-versus-a-copy\n",
      "  X_releasedate.status[j] = 1\n",
      "/var/folders/23/mc3swhfd7ts230fqc9_j4xqw0000gn/T/ipykernel_9197/4247714838.py:19: SettingWithCopyWarning: \n",
      "A value is trying to be set on a copy of a slice from a DataFrame\n",
      "\n",
      "See the caveats in the documentation: https://pandas.pydata.org/pandas-docs/stable/user_guide/indexing.html#returning-a-view-versus-a-copy\n",
      "  X_releasedate.status[j] = 0\n"
     ]
    },
    {
     "data": {
      "text/html": [
       "<div>\n",
       "<style scoped>\n",
       "    .dataframe tbody tr th:only-of-type {\n",
       "        vertical-align: middle;\n",
       "    }\n",
       "\n",
       "    .dataframe tbody tr th {\n",
       "        vertical-align: top;\n",
       "    }\n",
       "\n",
       "    .dataframe thead th {\n",
       "        text-align: right;\n",
       "    }\n",
       "</style>\n",
       "<table border=\"1\" class=\"dataframe\">\n",
       "  <thead>\n",
       "    <tr style=\"text-align: right;\">\n",
       "      <th></th>\n",
       "      <th>id</th>\n",
       "      <th>original_language</th>\n",
       "      <th>popularity</th>\n",
       "      <th>release_date</th>\n",
       "      <th>runtime</th>\n",
       "      <th>status</th>\n",
       "      <th>revenue</th>\n",
       "    </tr>\n",
       "  </thead>\n",
       "  <tbody>\n",
       "    <tr>\n",
       "      <th>0</th>\n",
       "      <td>391</td>\n",
       "      <td>0</td>\n",
       "      <td>3.800073</td>\n",
       "      <td>12</td>\n",
       "      <td>0.0</td>\n",
       "      <td>1</td>\n",
       "      <td>10703234</td>\n",
       "    </tr>\n",
       "    <tr>\n",
       "      <th>1</th>\n",
       "      <td>592</td>\n",
       "      <td>0</td>\n",
       "      <td>0.402368</td>\n",
       "      <td>12</td>\n",
       "      <td>0.0</td>\n",
       "      <td>1</td>\n",
       "      <td>234748</td>\n",
       "    </tr>\n",
       "    <tr>\n",
       "      <th>2</th>\n",
       "      <td>925</td>\n",
       "      <td>0</td>\n",
       "      <td>1.926826</td>\n",
       "      <td>11</td>\n",
       "      <td>0.0</td>\n",
       "      <td>1</td>\n",
       "      <td>850259</td>\n",
       "    </tr>\n",
       "    <tr>\n",
       "      <th>3</th>\n",
       "      <td>978</td>\n",
       "      <td>0</td>\n",
       "      <td>5.010563</td>\n",
       "      <td>10</td>\n",
       "      <td>0.0</td>\n",
       "      <td>1</td>\n",
       "      <td>12935800</td>\n",
       "    </tr>\n",
       "    <tr>\n",
       "      <th>4</th>\n",
       "      <td>1256</td>\n",
       "      <td>0</td>\n",
       "      <td>1.623440</td>\n",
       "      <td>8</td>\n",
       "      <td>0.0</td>\n",
       "      <td>1</td>\n",
       "      <td>39598448</td>\n",
       "    </tr>\n",
       "    <tr>\n",
       "      <th>...</th>\n",
       "      <td>...</td>\n",
       "      <td>...</td>\n",
       "      <td>...</td>\n",
       "      <td>...</td>\n",
       "      <td>...</td>\n",
       "      <td>...</td>\n",
       "      <td>...</td>\n",
       "    </tr>\n",
       "    <tr>\n",
       "      <th>2995</th>\n",
       "      <td>524</td>\n",
       "      <td>1</td>\n",
       "      <td>11.147040</td>\n",
       "      <td>10</td>\n",
       "      <td>220.0</td>\n",
       "      <td>1</td>\n",
       "      <td>122700000</td>\n",
       "    </tr>\n",
       "    <tr>\n",
       "      <th>2996</th>\n",
       "      <td>1923</td>\n",
       "      <td>1</td>\n",
       "      <td>8.591238</td>\n",
       "      <td>6</td>\n",
       "      <td>248.0</td>\n",
       "      <td>1</td>\n",
       "      <td>71000000</td>\n",
       "    </tr>\n",
       "    <tr>\n",
       "      <th>2997</th>\n",
       "      <td>1212</td>\n",
       "      <td>1</td>\n",
       "      <td>4.558075</td>\n",
       "      <td>5</td>\n",
       "      <td>338.0</td>\n",
       "      <td>1</td>\n",
       "      <td>871279</td>\n",
       "    </tr>\n",
       "    <tr>\n",
       "      <th>2998</th>\n",
       "      <td>1336</td>\n",
       "      <td>0</td>\n",
       "      <td>0.292296</td>\n",
       "      <td>10</td>\n",
       "      <td>NaN</td>\n",
       "      <td>1</td>\n",
       "      <td>31000</td>\n",
       "    </tr>\n",
       "    <tr>\n",
       "      <th>2999</th>\n",
       "      <td>2303</td>\n",
       "      <td>0</td>\n",
       "      <td>0.002229</td>\n",
       "      <td>3</td>\n",
       "      <td>NaN</td>\n",
       "      <td>1</td>\n",
       "      <td>65335</td>\n",
       "    </tr>\n",
       "  </tbody>\n",
       "</table>\n",
       "<p>3000 rows × 7 columns</p>\n",
       "</div>"
      ],
      "text/plain": [
       "        id original_language  popularity release_date  runtime status  \\\n",
       "0      391                 0    3.800073           12      0.0      1   \n",
       "1      592                 0    0.402368           12      0.0      1   \n",
       "2      925                 0    1.926826           11      0.0      1   \n",
       "3      978                 0    5.010563           10      0.0      1   \n",
       "4     1256                 0    1.623440            8      0.0      1   \n",
       "...    ...               ...         ...          ...      ...    ...   \n",
       "2995   524                 1   11.147040           10    220.0      1   \n",
       "2996  1923                 1    8.591238            6    248.0      1   \n",
       "2997  1212                 1    4.558075            5    338.0      1   \n",
       "2998  1336                 0    0.292296           10      NaN      1   \n",
       "2999  2303                 0    0.002229            3      NaN      1   \n",
       "\n",
       "        revenue  \n",
       "0      10703234  \n",
       "1        234748  \n",
       "2        850259  \n",
       "3      12935800  \n",
       "4      39598448  \n",
       "...         ...  \n",
       "2995  122700000  \n",
       "2996   71000000  \n",
       "2997     871279  \n",
       "2998      31000  \n",
       "2999      65335  \n",
       "\n",
       "[3000 rows x 7 columns]"
      ]
     },
     "execution_count": 5,
     "metadata": {},
     "output_type": "execute_result"
    }
   ],
   "source": [
    "\n",
    "\n",
    "X_releasedate =dffilm\n",
    "for m in range(0,len(dffilm.release_date)):\n",
    "    film_date = dffilm.release_date[m]\n",
    "    dt = datetime.strptime(film_date, '%m/%d/%y')\n",
    "    #dffilm.release_date[m] = datetime_object.timetuple().tm_yday\n",
    "    X_releasedate.release_date[m]= dt.month\n",
    "    \n",
    "for i in range(0,len(dffilm.original_language)):\n",
    "    if dffilm.original_language[i]== 'en':\n",
    "        X_releasedate.original_language[i] = 1\n",
    "    else:\n",
    "        X_releasedate.original_language[i] = 0\n",
    "        \n",
    "\n",
    "for j in range(0,len(dffilm.status)):\n",
    "    if dffilm.status[j]== 'Released':\n",
    "        X_releasedate.status[j] = 1\n",
    "    else:\n",
    "        X_releasedate.status[j] = 0        \n",
    "        \n",
    "X_releasedate"
   ]
  },
  {
   "cell_type": "code",
   "execution_count": 6,
   "id": "ad02e1bc-2caa-4012-ae72-2c2c7612d39f",
   "metadata": {
    "tags": []
   },
   "outputs": [],
   "source": [
    "X_releasedate['release_date']=X_releasedate.release_date.astype('int64')\n",
    "X_releasedate['original_language']=X_releasedate.original_language.astype('int64')\n",
    "X_releasedate['status']=X_releasedate.status.astype('int64')"
   ]
  },
  {
   "cell_type": "code",
   "execution_count": 7,
   "id": "57fd258c-4b74-49d4-bc13-a3f53b818311",
   "metadata": {},
   "outputs": [],
   "source": [
    "X = X_releasedate.dropna().copy()\n"
   ]
  },
  {
   "cell_type": "code",
   "execution_count": 8,
   "id": "c7831cea-c08a-41b0-ba3a-63bca6c30f5b",
   "metadata": {},
   "outputs": [
    {
     "name": "stderr",
     "output_type": "stream",
     "text": [
      "/Users/vikramjindal/opt/anaconda3/lib/python3.8/site-packages/pandas/core/frame.py:3990: SettingWithCopyWarning: \n",
      "A value is trying to be set on a copy of a slice from a DataFrame\n",
      "\n",
      "See the caveats in the documentation: https://pandas.pydata.org/pandas-docs/stable/user_guide/indexing.html#returning-a-view-versus-a-copy\n",
      "  return super().drop(\n"
     ]
    },
    {
     "data": {
      "text/html": [
       "<div>\n",
       "<style scoped>\n",
       "    .dataframe tbody tr th:only-of-type {\n",
       "        vertical-align: middle;\n",
       "    }\n",
       "\n",
       "    .dataframe tbody tr th {\n",
       "        vertical-align: top;\n",
       "    }\n",
       "\n",
       "    .dataframe thead th {\n",
       "        text-align: right;\n",
       "    }\n",
       "</style>\n",
       "<table border=\"1\" class=\"dataframe\">\n",
       "  <thead>\n",
       "    <tr style=\"text-align: right;\">\n",
       "      <th></th>\n",
       "      <th>status</th>\n",
       "    </tr>\n",
       "  </thead>\n",
       "  <tbody>\n",
       "    <tr>\n",
       "      <th>0</th>\n",
       "      <td>1</td>\n",
       "    </tr>\n",
       "    <tr>\n",
       "      <th>1</th>\n",
       "      <td>1</td>\n",
       "    </tr>\n",
       "    <tr>\n",
       "      <th>2</th>\n",
       "      <td>1</td>\n",
       "    </tr>\n",
       "    <tr>\n",
       "      <th>3</th>\n",
       "      <td>1</td>\n",
       "    </tr>\n",
       "    <tr>\n",
       "      <th>4</th>\n",
       "      <td>1</td>\n",
       "    </tr>\n",
       "    <tr>\n",
       "      <th>...</th>\n",
       "      <td>...</td>\n",
       "    </tr>\n",
       "    <tr>\n",
       "      <th>2993</th>\n",
       "      <td>1</td>\n",
       "    </tr>\n",
       "    <tr>\n",
       "      <th>2994</th>\n",
       "      <td>1</td>\n",
       "    </tr>\n",
       "    <tr>\n",
       "      <th>2995</th>\n",
       "      <td>1</td>\n",
       "    </tr>\n",
       "    <tr>\n",
       "      <th>2996</th>\n",
       "      <td>1</td>\n",
       "    </tr>\n",
       "    <tr>\n",
       "      <th>2997</th>\n",
       "      <td>1</td>\n",
       "    </tr>\n",
       "  </tbody>\n",
       "</table>\n",
       "<p>2998 rows × 1 columns</p>\n",
       "</div>"
      ],
      "text/plain": [
       "      status\n",
       "0          1\n",
       "1          1\n",
       "2          1\n",
       "3          1\n",
       "4          1\n",
       "...      ...\n",
       "2993       1\n",
       "2994       1\n",
       "2995       1\n",
       "2996       1\n",
       "2997       1\n",
       "\n",
       "[2998 rows x 1 columns]"
      ]
     },
     "execution_count": 8,
     "metadata": {},
     "output_type": "execute_result"
    }
   ],
   "source": [
    "\n",
    "X=X_releasedate.dropna()\n",
    "y=X_releasedate.dropna()\n",
    "X.drop(['id','popularity','release_date','runtime','original_language','revenue'], axis=1, inplace=True)\n",
    "y.drop(['id','popularity','release_date','runtime','status','original_language'], axis=1, inplace=True)\n",
    "X.shape\n",
    "y.shape\n",
    "X"
   ]
  },
  {
   "cell_type": "code",
   "execution_count": 9,
   "id": "c506d0c1-db9c-4d70-aa11-0953a0c3a9d8",
   "metadata": {},
   "outputs": [
    {
     "data": {
      "text/plain": [
       "<matplotlib.collections.PathCollection at 0x7fbd46843190>"
      ]
     },
     "execution_count": 9,
     "metadata": {},
     "output_type": "execute_result"
    },
    {
     "data": {
      "image/png": "[encoded data removed]",
      "text/plain": [
       "<Figure size 432x288 with 1 Axes>"
      ]
     },
     "metadata": {
      "needs_background": "light"
     },
     "output_type": "display_data"
    }
   ],
   "source": [
    "plt.scatter(X.status,y.revenue)\n",
    "#plt.scatter(X,y)"
   ]
  },
  {
   "cell_type": "code",
   "execution_count": 10,
   "id": "a5a9b836-42a1-4850-9a22-a557c20a17da",
   "metadata": {},
   "outputs": [
    {
     "ename": "AttributeError",
     "evalue": "'DataFrame' object has no attribute 'reshape'",
     "output_type": "error",
     "traceback": [
      "\u001b[0;31m---------------------------------------------------------------------------\u001b[0m",
      "\u001b[0;31mAttributeError\u001b[0m                            Traceback (most recent call last)",
      "\u001b[0;32m/var/folders/23/mc3swhfd7ts230fqc9_j4xqw0000gn/T/ipykernel_9197/1211083725.py\u001b[0m in \u001b[0;36m<module>\u001b[0;34m\u001b[0m\n\u001b[0;32m----> 1\u001b[0;31m \u001b[0mX\u001b[0m \u001b[0;34m=\u001b[0m \u001b[0mX_releasedate\u001b[0m\u001b[0;34m.\u001b[0m\u001b[0mreshape\u001b[0m\u001b[0;34m(\u001b[0m\u001b[0;34m-\u001b[0m\u001b[0;36m1\u001b[0m\u001b[0;34m,\u001b[0m \u001b[0;36m1\u001b[0m\u001b[0;34m)\u001b[0m\u001b[0;34m\u001b[0m\u001b[0;34m\u001b[0m\u001b[0m\n\u001b[0m\u001b[1;32m      2\u001b[0m \u001b[0mX\u001b[0m\u001b[0;34m[\u001b[0m\u001b[0;34m:\u001b[0m\u001b[0;36m5\u001b[0m\u001b[0;34m]\u001b[0m\u001b[0;34m\u001b[0m\u001b[0;34m\u001b[0m\u001b[0m\n",
      "\u001b[0;32m~/opt/anaconda3/lib/python3.8/site-packages/pandas/core/generic.py\u001b[0m in \u001b[0;36m__getattr__\u001b[0;34m(self, name)\u001b[0m\n\u001b[1;32m   5272\u001b[0m             \u001b[0;32mif\u001b[0m \u001b[0mself\u001b[0m\u001b[0;34m.\u001b[0m\u001b[0m_info_axis\u001b[0m\u001b[0;34m.\u001b[0m\u001b[0m_can_hold_identifiers_and_holds_name\u001b[0m\u001b[0;34m(\u001b[0m\u001b[0mname\u001b[0m\u001b[0;34m)\u001b[0m\u001b[0;34m:\u001b[0m\u001b[0;34m\u001b[0m\u001b[0;34m\u001b[0m\u001b[0m\n\u001b[1;32m   5273\u001b[0m                 \u001b[0;32mreturn\u001b[0m \u001b[0mself\u001b[0m\u001b[0;34m[\u001b[0m\u001b[0mname\u001b[0m\u001b[0;34m]\u001b[0m\u001b[0;34m\u001b[0m\u001b[0;34m\u001b[0m\u001b[0m\n\u001b[0;32m-> 5274\u001b[0;31m             \u001b[0;32mreturn\u001b[0m \u001b[0mobject\u001b[0m\u001b[0;34m.\u001b[0m\u001b[0m__getattribute__\u001b[0m\u001b[0;34m(\u001b[0m\u001b[0mself\u001b[0m\u001b[0;34m,\u001b[0m \u001b[0mname\u001b[0m\u001b[0;34m)\u001b[0m\u001b[0;34m\u001b[0m\u001b[0;34m\u001b[0m\u001b[0m\n\u001b[0m\u001b[1;32m   5275\u001b[0m \u001b[0;34m\u001b[0m\u001b[0m\n\u001b[1;32m   5276\u001b[0m     \u001b[0;32mdef\u001b[0m \u001b[0m__setattr__\u001b[0m\u001b[0;34m(\u001b[0m\u001b[0mself\u001b[0m\u001b[0;34m,\u001b[0m \u001b[0mname\u001b[0m\u001b[0;34m:\u001b[0m \u001b[0mstr\u001b[0m\u001b[0;34m,\u001b[0m \u001b[0mvalue\u001b[0m\u001b[0;34m)\u001b[0m \u001b[0;34m->\u001b[0m \u001b[0;32mNone\u001b[0m\u001b[0;34m:\u001b[0m\u001b[0;34m\u001b[0m\u001b[0;34m\u001b[0m\u001b[0m\n",
      "\u001b[0;31mAttributeError\u001b[0m: 'DataFrame' object has no attribute 'reshape'"
     ]
    }
   ],
   "source": [
    "X = X_releasedate.reshape(-1, 1)\n",
    "X[:5]"
   ]
  },
  {
   "cell_type": "code",
   "execution_count": 11,
   "id": "adaa6458-1103-4cbe-bd35-4185479342e2",
   "metadata": {},
   "outputs": [
    {
     "data": {
      "text/plain": [
       "(2998, 1)"
      ]
     },
     "execution_count": 11,
     "metadata": {},
     "output_type": "execute_result"
    }
   ],
   "source": [
    "X.shape"
   ]
  },
  {
   "cell_type": "code",
   "execution_count": 12,
   "id": "377f0b67-ae4d-4637-8ec7-d608de0aacbc",
   "metadata": {},
   "outputs": [
    {
     "data": {
      "text/plain": [
       "(2998, 1)"
      ]
     },
     "execution_count": 12,
     "metadata": {},
     "output_type": "execute_result"
    }
   ],
   "source": [
    "y.shape"
   ]
  },
  {
   "cell_type": "code",
   "execution_count": 13,
   "id": "1236ff01-1713-40cf-a542-c8666961e415",
   "metadata": {},
   "outputs": [
    {
     "data": {
      "text/plain": [
       "LinearRegression()"
      ]
     },
     "execution_count": 13,
     "metadata": {},
     "output_type": "execute_result"
    }
   ],
   "source": [
    "model = LinearRegression()\n",
    "model\n",
    "\n",
    "\n",
    "# Fit the data into the model\n",
    "model.fit(X, y)"
   ]
  },
  {
   "cell_type": "code",
   "execution_count": 14,
   "id": "c47702fe-c028-48c6-9622-ee29387e10c8",
   "metadata": {},
   "outputs": [
    {
     "name": "stdout",
     "output_type": "stream",
     "text": [
      "[[63374690.54058135]]\n"
     ]
    }
   ],
   "source": [
    "# The slope\n",
    "print(model.coef_)"
   ]
  },
  {
   "cell_type": "code",
   "execution_count": 15,
   "id": "95e7c7bc-a64c-481e-867c-aa0211548bc4",
   "metadata": {},
   "outputs": [
    {
     "name": "stdout",
     "output_type": "stream",
     "text": [
      "[3480198.74999981]\n"
     ]
    }
   ],
   "source": [
    "# The y-intercept\n",
    "print(model.intercept_)"
   ]
  },
  {
   "cell_type": "code",
   "execution_count": 16,
   "id": "8525f2bf-ce71-4fcf-b46f-9e4d74a3dab1",
   "metadata": {},
   "outputs": [
    {
     "name": "stdout",
     "output_type": "stream",
     "text": [
      "      status\n",
      "0          1\n",
      "1          1\n",
      "2          1\n",
      "3          1\n",
      "4          1\n",
      "...      ...\n",
      "2993       1\n",
      "2994       1\n",
      "2995       1\n",
      "2996       1\n",
      "2997       1\n",
      "\n",
      "[2998 rows x 1 columns]\n"
     ]
    }
   ],
   "source": [
    "# The model creates predicted y values based on X values\n",
    "predicted_y_values = model.predict(X)\n",
    "print(X)"
   ]
  },
  {
   "cell_type": "code",
   "execution_count": 17,
   "id": "be077852-c525-4ddd-8d77-15953868a188",
   "metadata": {},
   "outputs": [
    {
     "data": {
      "text/plain": [
       "[<matplotlib.lines.Line2D at 0x7fbd468f0940>]"
      ]
     },
     "execution_count": 17,
     "metadata": {},
     "output_type": "execute_result"
    },
    {
     "data": {
      "image/png": "[encoded data removed]",
      "text/plain": [
       "<Figure size 432x288 with 1 Axes>"
      ]
     },
     "metadata": {
      "needs_background": "light"
     },
     "output_type": "display_data"
    }
   ],
   "source": [
    "#Plot the results. The best fit line is red.\n",
    "plt.scatter(X.status, y.revenue)\n",
    "plt.plot(X,predicted_y_values,color='red')"
   ]
  },
  {
   "cell_type": "code",
   "execution_count": 18,
   "id": "4a742ad7-8dbc-46be-ab63-6e021c8318b7",
   "metadata": {
    "tags": []
   },
   "outputs": [],
   "source": [
    "X=y.drop('revenue',axis=1).copy()\n",
    "# Splitting into Train and Test sets\n",
    "#X_train,X_test,y_train,y_test = train_test_split(X, y, random_state=1, stratify=y)\n",
    "X_train,X_test,y_train,y_test = train_test_split(X, y,random_state=78)"
   ]
  },
  {
   "cell_type": "code",
   "execution_count": 29,
   "id": "3c0d557c-ad9c-4929-9fa2-46f710c8d068",
   "metadata": {},
   "outputs": [
    {
     "data": {
      "text/plain": [
       "count    3000.000000\n",
       "mean        0.998667\n",
       "std         0.036497\n",
       "min         0.000000\n",
       "25%         1.000000\n",
       "50%         1.000000\n",
       "75%         1.000000\n",
       "max         1.000000\n",
       "Name: status, dtype: float64"
      ]
     },
     "execution_count": 29,
     "metadata": {},
     "output_type": "execute_result"
    }
   ],
   "source": [
    "dffilm['status'].describe()"
   ]
  },
  {
   "cell_type": "code",
   "execution_count": null,
   "id": "61207c41-5a6e-4d0e-9831-59bda8833064",
   "metadata": {},
   "outputs": [],
   "source": []
  },
  {
   "cell_type": "code",
   "execution_count": null,
   "id": "d0a96e5a-bd57-44a8-8f05-62acf1ee0162",
   "metadata": {},
   "outputs": [],
   "source": []
  }
 ],
 "metadata": {
  "kernelspec": {
   "display_name": "Python 3 (ipykernel)",
   "language": "python",
   "name": "python3"
  },
  "language_info": {
   "codemirror_mode": {
    "name": "ipython",
    "version": 3
   },
   "file_extension": ".py",
   "mimetype": "text/x-python",
   "name": "python",
   "nbconvert_exporter": "python",
   "pygments_lexer": "ipython3",
   "version": "3.8.2"
  }
 },
 "nbformat": 4,
 "nbformat_minor": 5
}
