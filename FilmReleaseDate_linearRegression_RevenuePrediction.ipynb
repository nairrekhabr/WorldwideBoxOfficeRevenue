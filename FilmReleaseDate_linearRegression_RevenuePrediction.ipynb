{
 "cells": [
  {
   "cell_type": "code",
   "execution_count": 1,
   "id": "1f135b60-852b-4d26-b367-0e0926bf130c",
   "metadata": {},
   "outputs": [],
   "source": [
    "import numpy as np\n",
    "import pandas as pd\n",
    "from pathlib import Path\n",
    "import matplotlib.pyplot as plt\n",
    "from sklearn.linear_model import LinearRegression\n",
    "%matplotlib inline\n",
    "from datetime import datetime\n",
    "from sklearn import metrics\n",
    "import math\n",
    "from statistics import median\n",
    "import seaborn as sns\n",
    "import re\n",
    "plt.style.use('ggplot')\n",
    "pd.options.mode.chained_assignment = None  # default='warn'"
   ]
  },
  {
   "cell_type": "code",
   "execution_count": 2,
   "id": "7a09aa1e-fb39-40a5-9687-f63ce315745a",
   "metadata": {},
   "outputs": [],
   "source": [
    "dffilm = pd.read_csv(Path('./Resources/train.csv'))"
   ]
  },
  {
   "cell_type": "code",
   "execution_count": 3,
   "id": "c4cfddf8-7eee-43f5-9c11-3f64f1199884",
   "metadata": {
    "tags": []
   },
   "outputs": [
    {
     "data": {
      "text/html": [
       "<div>\n",
       "<style scoped>\n",
       "    .dataframe tbody tr th:only-of-type {\n",
       "        vertical-align: middle;\n",
       "    }\n",
       "\n",
       "    .dataframe tbody tr th {\n",
       "        vertical-align: top;\n",
       "    }\n",
       "\n",
       "    .dataframe thead th {\n",
       "        text-align: right;\n",
       "    }\n",
       "</style>\n",
       "<table border=\"1\" class=\"dataframe\">\n",
       "  <thead>\n",
       "    <tr style=\"text-align: right;\">\n",
       "      <th></th>\n",
       "      <th>release_date</th>\n",
       "      <th>revenue</th>\n",
       "    </tr>\n",
       "  </thead>\n",
       "  <tbody>\n",
       "    <tr>\n",
       "      <th>0</th>\n",
       "      <td>12/22/12</td>\n",
       "      <td>10703234</td>\n",
       "    </tr>\n",
       "    <tr>\n",
       "      <th>1</th>\n",
       "      <td>12/4/03</td>\n",
       "      <td>234748</td>\n",
       "    </tr>\n",
       "    <tr>\n",
       "      <th>2</th>\n",
       "      <td>11/15/13</td>\n",
       "      <td>850259</td>\n",
       "    </tr>\n",
       "    <tr>\n",
       "      <th>3</th>\n",
       "      <td>10/27/11</td>\n",
       "      <td>12935800</td>\n",
       "    </tr>\n",
       "    <tr>\n",
       "      <th>4</th>\n",
       "      <td>8/25/75</td>\n",
       "      <td>39598448</td>\n",
       "    </tr>\n",
       "  </tbody>\n",
       "</table>\n",
       "</div>"
      ],
      "text/plain": [
       "  release_date   revenue\n",
       "0     12/22/12  10703234\n",
       "1      12/4/03    234748\n",
       "2     11/15/13    850259\n",
       "3     10/27/11  12935800\n",
       "4      8/25/75  39598448"
      ]
     },
     "execution_count": 3,
     "metadata": {},
     "output_type": "execute_result"
    }
   ],
   "source": [
    "#dffilm =dffilm[dffilm['runtime'] !=0]\n",
    "#dffilm =dffilm[dffilm['revenue'] !=0]\n",
    "#dffilm =dffilm[dffilm['revenue'] >100]\n",
    "#dffilm =dffilm[dffilm['budget'] !=0]\n",
    "\n",
    "dffilm.drop(['id','belongs_to_collection','budget','genres','homepage',\n",
    "            'imdb_id','original_language','original_title','overview','poster_path','production_companies',\n",
    "            'production_countries','popularity','runtime','spoken_languages',\n",
    "            'status','tagline','title','Keywords','cast','crew'], axis=1, inplace=True)\n",
    "\n",
    "\n",
    "dffilm.head()"
   ]
  },
  {
   "cell_type": "code",
   "execution_count": 4,
   "id": "0b24e589-fe28-432c-9532-aff1de3e56ac",
   "metadata": {
    "tags": []
   },
   "outputs": [
    {
     "name": "stdout",
     "output_type": "stream",
     "text": [
      "     release_date    revenue\n",
      "0              12   10703234\n",
      "1              12     234748\n",
      "2              11     850259\n",
      "3              10   12935800\n",
      "4               8   39598448\n",
      "...           ...        ...\n",
      "2995           10  122700000\n",
      "2996            6   71000000\n",
      "2997            5     871279\n",
      "2998           10      31000\n",
      "2999            3      65335\n",
      "\n",
      "[2959 rows x 2 columns]\n"
     ]
    }
   ],
   "source": [
    "# converting film date to day of year\n",
    "X_releasedate=dffilm\n",
    "for m in range(0,len(dffilm.release_date)):\n",
    "    film_date = dffilm.release_date[m]\n",
    "    dt = datetime.strptime(film_date, '%m/%d/%y')\n",
    "    #dffilm.release_date[m] = datetime_object.timetuple().tm_yday\n",
    "    X_releasedate.release_date[m]= dt.month\n",
    "    \n",
    "\n",
    "X_releasedate =X_releasedate[X_releasedate['revenue'] !=0]\n",
    "X_releasedate =X_releasedate[X_releasedate['revenue'] >100]\n",
    "X_releasedate =X_releasedate[X_releasedate['release_date'] !=0]\n",
    "\n",
    "dffilm = X_releasedate\n",
    "print(X_releasedate)"
   ]
  },
  {
   "cell_type": "code",
   "execution_count": 5,
   "id": "b54c3d5f-8da9-4e69-82bc-6f60b16c5a1c",
   "metadata": {
    "tags": []
   },
   "outputs": [
    {
     "name": "stdout",
     "output_type": "stream",
     "text": [
      "0       12\n",
      "1       12\n",
      "2       11\n",
      "3       10\n",
      "4        8\n",
      "        ..\n",
      "2995    10\n",
      "2996     6\n",
      "2997     5\n",
      "2998    10\n",
      "2999     3\n",
      "Name: release_date, Length: 2959, dtype: object\n"
     ]
    },
    {
     "data": {
      "image/png": "[encoded data removed]",
      "text/plain": [
       "<Figure size 432x288 with 1 Axes>"
      ]
     },
     "metadata": {},
     "output_type": "display_data"
    }
   ],
   "source": [
    "plt.scatter(X_releasedate.release_date, X_releasedate.revenue)\n",
    "print(dffilm.release_date)"
   ]
  },
  {
   "cell_type": "code",
   "execution_count": 6,
   "id": "6034eb7b-5e93-43c6-97c1-771dc3d8c25a",
   "metadata": {},
   "outputs": [
    {
     "data": {
      "text/plain": [
       "array([[12],\n",
       "       [12],\n",
       "       [11],\n",
       "       [10],\n",
       "       [8]], dtype=object)"
      ]
     },
     "execution_count": 6,
     "metadata": {},
     "output_type": "execute_result"
    }
   ],
   "source": [
    "X = dffilm.release_date.values.reshape(-1, 1)\n",
    "X[:5]"
   ]
  },
  {
   "cell_type": "code",
   "execution_count": 7,
   "id": "5fd75440-c67e-4d76-a485-aa1ba75f754d",
   "metadata": {},
   "outputs": [
    {
     "data": {
      "text/plain": [
       "(2959, 1)"
      ]
     },
     "execution_count": 7,
     "metadata": {},
     "output_type": "execute_result"
    }
   ],
   "source": [
    "X.shape"
   ]
  },
  {
   "cell_type": "code",
   "execution_count": 8,
   "id": "deb7527d-5aa0-422e-9aae-250e23664488",
   "metadata": {},
   "outputs": [],
   "source": [
    "y=dffilm.revenue"
   ]
  },
  {
   "cell_type": "code",
   "execution_count": 9,
   "id": "a461a5a3-bf68-4999-88c1-0d3526e02528",
   "metadata": {},
   "outputs": [
    {
     "data": {
      "text/plain": [
       "0        10703234\n",
       "1          234748\n",
       "2          850259\n",
       "3        12935800\n",
       "4        39598448\n",
       "          ...    \n",
       "2995    122700000\n",
       "2996     71000000\n",
       "2997       871279\n",
       "2998        31000\n",
       "2999        65335\n",
       "Name: revenue, Length: 2959, dtype: int64"
      ]
     },
     "execution_count": 9,
     "metadata": {},
     "output_type": "execute_result"
    }
   ],
   "source": [
    "# Create a model with scikit-learn\n",
    "model = LinearRegression()\n",
    "model\n",
    "X\n",
    "y"
   ]
  },
  {
   "cell_type": "code",
   "execution_count": 10,
   "id": "577682d6-b769-44a1-bff9-2673cd2d3947",
   "metadata": {},
   "outputs": [
    {
     "data": {
      "text/plain": [
       "LinearRegression()"
      ]
     },
     "execution_count": 10,
     "metadata": {},
     "output_type": "execute_result"
    }
   ],
   "source": [
    "# Fit the data into the model\n",
    "model.fit(X, y)"
   ]
  },
  {
   "cell_type": "code",
   "execution_count": 11,
   "id": "34887f49-2a7d-4291-8429-6725c64649b6",
   "metadata": {},
   "outputs": [
    {
     "name": "stdout",
     "output_type": "stream",
     "text": [
      "[820545.65759887]\n"
     ]
    }
   ],
   "source": [
    "# The slope\n",
    "print(model.coef_)"
   ]
  },
  {
   "cell_type": "code",
   "execution_count": 12,
   "id": "26284fdd-98b6-4914-97ec-fb0d99ce4a68",
   "metadata": {},
   "outputs": [
    {
     "name": "stdout",
     "output_type": "stream",
     "text": [
      "62090163.42361782\n"
     ]
    }
   ],
   "source": [
    "# The y-intercept\n",
    "print(model.intercept_)"
   ]
  },
  {
   "cell_type": "code",
   "execution_count": 13,
   "id": "cd430584-e314-4793-a90a-a36a2e484112",
   "metadata": {},
   "outputs": [
    {
     "name": "stdout",
     "output_type": "stream",
     "text": [
      "[71936711.31480423 71936711.31480423 71116165.65720536 ...\n",
      " 66192891.71161215 70295619.99960649 64551800.39641442]\n"
     ]
    }
   ],
   "source": [
    "# The model creates predicted y values based on X values\n",
    "predicted_y_values = model.predict(X)\n",
    "#print(predicted_y_values)\n",
    "print(predicted_y_values)\n",
    "#print(X)"
   ]
  },
  {
   "cell_type": "code",
   "execution_count": 14,
   "id": "37469568-33c0-4f59-aa3d-5dbbf86da673",
   "metadata": {
    "tags": []
   },
   "outputs": [
    {
     "data": {
      "text/plain": [
       "[<matplotlib.lines.Line2D at 0x7fcd5306b700>]"
      ]
     },
     "execution_count": 14,
     "metadata": {},
     "output_type": "execute_result"
    },
    {
     "data": {
      "image/png": "[encoded data removed]",
      "text/plain": [
       "<Figure size 432x288 with 1 Axes>"
      ]
     },
     "metadata": {},
     "output_type": "display_data"
    }
   ],
   "source": [
    "# Plot the results. The best fit line is red.\n",
    "plt.scatter(X, y)\n",
    "plt.plot(X,predicted_y_values,color='red')"
   ]
  },
  {
   "cell_type": "code",
   "execution_count": 16,
   "id": "cda6da81-ba38-46ad-9671-398340e52e4b",
   "metadata": {},
   "outputs": [
    {
     "name": "stderr",
     "output_type": "stream",
     "text": [
      "/Users/vikramjindal/opt/anaconda3/lib/python3.8/site-packages/seaborn/distributions.py:2619: FutureWarning: `distplot` is a deprecated function and will be removed in a future version. Please adapt your code to use either `displot` (a figure-level function with similar flexibility) or `histplot` (an axes-level function for histograms).\n",
      "  warnings.warn(msg, FutureWarning)\n"
     ]
    },
    {
     "ename": "TypeError",
     "evalue": "loop of ufunc does not support argument 0 of type int which has no callable log1p method",
     "output_type": "error",
     "traceback": [
      "\u001b[0;31m---------------------------------------------------------------------------\u001b[0m",
      "\u001b[0;31mAttributeError\u001b[0m                            Traceback (most recent call last)",
      "\u001b[0;31mAttributeError\u001b[0m: 'int' object has no attribute 'log1p'",
      "\nThe above exception was the direct cause of the following exception:\n",
      "\u001b[0;31mTypeError\u001b[0m                                 Traceback (most recent call last)",
      "\u001b[0;32m/var/folders/23/mc3swhfd7ts230fqc9_j4xqw0000gn/T/ipykernel_15726/272549833.py\u001b[0m in \u001b[0;36m<module>\u001b[0;34m\u001b[0m\n\u001b[1;32m      6\u001b[0m \u001b[0msns\u001b[0m\u001b[0;34m.\u001b[0m\u001b[0mdistplot\u001b[0m\u001b[0;34m(\u001b[0m\u001b[0ma\u001b[0m\u001b[0;34m=\u001b[0m\u001b[0mdffilm\u001b[0m\u001b[0;34m.\u001b[0m\u001b[0mrelease_date\u001b[0m\u001b[0;34m,\u001b[0m \u001b[0mkde\u001b[0m \u001b[0;34m=\u001b[0m \u001b[0;32mFalse\u001b[0m\u001b[0;34m,\u001b[0m \u001b[0max\u001b[0m \u001b[0;34m=\u001b[0m \u001b[0max\u001b[0m\u001b[0;34m[\u001b[0m\u001b[0;36m1\u001b[0m\u001b[0;34m]\u001b[0m\u001b[0;34m,\u001b[0m \u001b[0mcolor\u001b[0m\u001b[0;34m=\u001b[0m\u001b[0;34m'purple'\u001b[0m\u001b[0;34m,\u001b[0m \u001b[0mhist_kws\u001b[0m\u001b[0;34m=\u001b[0m\u001b[0mdict\u001b[0m\u001b[0;34m(\u001b[0m\u001b[0malpha\u001b[0m\u001b[0;34m=\u001b[0m\u001b[0;36m1\u001b[0m\u001b[0;34m)\u001b[0m\u001b[0;34m)\u001b[0m\u001b[0;34m\u001b[0m\u001b[0;34m\u001b[0m\u001b[0m\n\u001b[1;32m      7\u001b[0m \u001b[0max\u001b[0m\u001b[0;34m[\u001b[0m\u001b[0;36m1\u001b[0m\u001b[0;34m]\u001b[0m\u001b[0;34m.\u001b[0m\u001b[0mset_title\u001b[0m\u001b[0;34m(\u001b[0m\u001b[0;34m\"Histogram of release date variable\"\u001b[0m\u001b[0;34m)\u001b[0m\u001b[0;34m\u001b[0m\u001b[0;34m\u001b[0m\u001b[0m\n\u001b[0;32m----> 8\u001b[0;31m \u001b[0msns\u001b[0m\u001b[0;34m.\u001b[0m\u001b[0mdistplot\u001b[0m\u001b[0;34m(\u001b[0m\u001b[0ma\u001b[0m\u001b[0;34m=\u001b[0m\u001b[0mnp\u001b[0m\u001b[0;34m.\u001b[0m\u001b[0mlog1p\u001b[0m\u001b[0;34m(\u001b[0m\u001b[0mX_releasedate\u001b[0m\u001b[0;34m.\u001b[0m\u001b[0mrelease_date\u001b[0m\u001b[0;34m)\u001b[0m\u001b[0;34m,\u001b[0m \u001b[0mkde\u001b[0m \u001b[0;34m=\u001b[0m \u001b[0;32mFalse\u001b[0m\u001b[0;34m,\u001b[0m \u001b[0max\u001b[0m \u001b[0;34m=\u001b[0m \u001b[0max\u001b[0m\u001b[0;34m[\u001b[0m\u001b[0;36m2\u001b[0m\u001b[0;34m]\u001b[0m\u001b[0;34m,\u001b[0m \u001b[0mcolor\u001b[0m\u001b[0;34m=\u001b[0m\u001b[0;34m'purple'\u001b[0m\u001b[0;34m,\u001b[0m \u001b[0mhist_kws\u001b[0m\u001b[0;34m=\u001b[0m\u001b[0mdict\u001b[0m\u001b[0;34m(\u001b[0m\u001b[0malpha\u001b[0m\u001b[0;34m=\u001b[0m\u001b[0;36m1\u001b[0m\u001b[0;34m)\u001b[0m\u001b[0;34m)\u001b[0m\u001b[0;34m\u001b[0m\u001b[0;34m\u001b[0m\u001b[0m\n\u001b[0m\u001b[1;32m      9\u001b[0m \u001b[0max\u001b[0m\u001b[0;34m[\u001b[0m\u001b[0;36m2\u001b[0m\u001b[0;34m]\u001b[0m\u001b[0;34m.\u001b[0m\u001b[0mset_title\u001b[0m\u001b[0;34m(\u001b[0m\u001b[0;34m\"Log1p transformed release date Histogram\"\u001b[0m\u001b[0;34m)\u001b[0m\u001b[0;34m\u001b[0m\u001b[0;34m\u001b[0m\u001b[0m\n\u001b[1;32m     10\u001b[0m \u001b[0mf\u001b[0m\u001b[0;34m.\u001b[0m\u001b[0mtight_layout\u001b[0m\u001b[0;34m(\u001b[0m\u001b[0;34m)\u001b[0m\u001b[0;34m\u001b[0m\u001b[0;34m\u001b[0m\u001b[0m\n",
      "\u001b[0;32m~/opt/anaconda3/lib/python3.8/site-packages/pandas/core/series.py\u001b[0m in \u001b[0;36m__array_ufunc__\u001b[0;34m(self, ufunc, method, *inputs, **kwargs)\u001b[0m\n\u001b[1;32m    677\u001b[0m \u001b[0;34m\u001b[0m\u001b[0m\n\u001b[1;32m    678\u001b[0m         \u001b[0minputs\u001b[0m \u001b[0;34m=\u001b[0m \u001b[0mtuple\u001b[0m\u001b[0;34m(\u001b[0m\u001b[0mextract_array\u001b[0m\u001b[0;34m(\u001b[0m\u001b[0mx\u001b[0m\u001b[0;34m,\u001b[0m \u001b[0mextract_numpy\u001b[0m\u001b[0;34m=\u001b[0m\u001b[0;32mTrue\u001b[0m\u001b[0;34m)\u001b[0m \u001b[0;32mfor\u001b[0m \u001b[0mx\u001b[0m \u001b[0;32min\u001b[0m \u001b[0minputs\u001b[0m\u001b[0;34m)\u001b[0m\u001b[0;34m\u001b[0m\u001b[0;34m\u001b[0m\u001b[0m\n\u001b[0;32m--> 679\u001b[0;31m         \u001b[0mresult\u001b[0m \u001b[0;34m=\u001b[0m \u001b[0mgetattr\u001b[0m\u001b[0;34m(\u001b[0m\u001b[0mufunc\u001b[0m\u001b[0;34m,\u001b[0m \u001b[0mmethod\u001b[0m\u001b[0;34m)\u001b[0m\u001b[0;34m(\u001b[0m\u001b[0;34m*\u001b[0m\u001b[0minputs\u001b[0m\u001b[0;34m,\u001b[0m \u001b[0;34m**\u001b[0m\u001b[0mkwargs\u001b[0m\u001b[0;34m)\u001b[0m\u001b[0;34m\u001b[0m\u001b[0;34m\u001b[0m\u001b[0m\n\u001b[0m\u001b[1;32m    680\u001b[0m \u001b[0;34m\u001b[0m\u001b[0m\n\u001b[1;32m    681\u001b[0m         \u001b[0mname\u001b[0m\u001b[0;34m:\u001b[0m \u001b[0mOptional\u001b[0m\u001b[0;34m[\u001b[0m\u001b[0mHashable\u001b[0m\u001b[0;34m]\u001b[0m\u001b[0;34m\u001b[0m\u001b[0;34m\u001b[0m\u001b[0m\n",
      "\u001b[0;31mTypeError\u001b[0m: loop of ufunc does not support argument 0 of type int which has no callable log1p method"
     ]
    },
    {
     "data": {
      "image/png": "[encoded data removed]",
      "text/plain": [
       "<Figure size 720x432 with 3 Axes>"
      ]
     },
     "metadata": {},
     "output_type": "display_data"
    }
   ],
   "source": [
    "f, ax = plt.subplots(3, figsize=(10,6))\n",
    "\n",
    "sns.set(rc={'figure.figsize':(12,8)})\n",
    "sns.boxplot(x=dffilm.release_date, ax = ax[0], color='purple')\n",
    "ax[0].set_title(\"Box Plot of release date variable\")\n",
    "sns.distplot(a=dffilm.release_date, kde = False, ax = ax[1], color='purple', hist_kws=dict(alpha=1))\n",
    "ax[1].set_title(\"Histogram of release date variable\")\n",
    "sns.distplot(a=np.log1p(X_releasedate.release_date), kde = False, ax = ax[2], color='purple', hist_kws=dict(alpha=1))\n",
    "ax[2].set_title(\"Log1p transformed release date Histogram\")\n",
    "f.tight_layout()"
   ]
  },
  {
   "cell_type": "code",
   "execution_count": 16,
   "id": "4db62184-eafe-4462-9877-71445abb8c48",
   "metadata": {},
   "outputs": [
    {
     "data": {
      "text/plain": [
       "count     3000\n",
       "unique      12\n",
       "top          9\n",
       "freq       362\n",
       "Name: release_date, dtype: int64"
      ]
     },
     "execution_count": 16,
     "metadata": {},
     "output_type": "execute_result"
    }
   ],
   "source": [
    "dffilm['release_date'].describe()"
   ]
  },
  {
   "cell_type": "code",
   "execution_count": null,
   "id": "3c0d557c-ad9c-4929-9fa2-46f710c8d068",
   "metadata": {},
   "outputs": [],
   "source": []
  }
 ],
 "metadata": {
  "kernelspec": {
   "display_name": "Python 3 (ipykernel)",
   "language": "python",
   "name": "python3"
  },
  "language_info": {
   "codemirror_mode": {
    "name": "ipython",
    "version": 3
   },
   "file_extension": ".py",
   "mimetype": "text/x-python",
   "name": "python",
   "nbconvert_exporter": "python",
   "pygments_lexer": "ipython3",
   "version": "3.8.2"
  }
 },
 "nbformat": 4,
 "nbformat_minor": 5
}
