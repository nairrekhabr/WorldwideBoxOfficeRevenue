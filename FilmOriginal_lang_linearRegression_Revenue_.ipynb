{
 "cells": [
  {
   "cell_type": "code",
   "execution_count": 50,
   "id": "1f135b60-852b-4d26-b367-0e0926bf130c",
   "metadata": {
    "tags": []
   },
   "outputs": [],
   "source": [
    "import pandas as pd\n",
    "import numpy as np\n",
    "from pathlib import Path\n",
    "import matplotlib.pyplot as plt\n",
    "from sklearn.ensemble import RandomForestClassifier\n",
    "from sklearn.linear_model import LinearRegression\n",
    "from sklearn.model_selection import train_test_split\n",
    "%matplotlib inline\n",
    "from sklearn.preprocessing import StandardScaler\n",
    "from sklearn.metrics import confusion_matrix, accuracy_score, classification_report\n",
    "from datetime import datetime\n",
    "from sklearn.compose import ColumnTransformer\n",
    "from sklearn.preprocessing import OneHotEncoder\n",
    "from sklearn import metrics\n",
    "import math\n",
    "from statistics import median\n",
    "import seaborn as sns\n",
    "import re\n",
    "plt.style.use('ggplot')\n",
    "pd.options.mode.chained_assignment = None  # default='warn'"
   ]
  },
  {
   "cell_type": "code",
   "execution_count": 51,
   "id": "7a09aa1e-fb39-40a5-9687-f63ce315745a",
   "metadata": {
    "tags": []
   },
   "outputs": [],
   "source": [
    "dffilm = pd.read_csv(Path('./Resources/train.csv'))"
   ]
  },
  {
   "cell_type": "code",
   "execution_count": 52,
   "id": "c4cfddf8-7eee-43f5-9c11-3f64f1199884",
   "metadata": {
    "jupyter": {
     "source_hidden": true
    },
    "tags": []
   },
   "outputs": [
    {
     "data": {
      "text/html": [
       "<div>\n",
       "<style scoped>\n",
       "    .dataframe tbody tr th:only-of-type {\n",
       "        vertical-align: middle;\n",
       "    }\n",
       "\n",
       "    .dataframe tbody tr th {\n",
       "        vertical-align: top;\n",
       "    }\n",
       "\n",
       "    .dataframe thead th {\n",
       "        text-align: right;\n",
       "    }\n",
       "</style>\n",
       "<table border=\"1\" class=\"dataframe\">\n",
       "  <thead>\n",
       "    <tr style=\"text-align: right;\">\n",
       "      <th></th>\n",
       "      <th>id</th>\n",
       "      <th>budget</th>\n",
       "      <th>original_language</th>\n",
       "      <th>popularity</th>\n",
       "      <th>release_date</th>\n",
       "      <th>runtime</th>\n",
       "      <th>status</th>\n",
       "      <th>revenue</th>\n",
       "    </tr>\n",
       "  </thead>\n",
       "  <tbody>\n",
       "    <tr>\n",
       "      <th>0</th>\n",
       "      <td>391</td>\n",
       "      <td>6843500</td>\n",
       "      <td>it</td>\n",
       "      <td>3.800073</td>\n",
       "      <td>12/22/12</td>\n",
       "      <td>0.0</td>\n",
       "      <td>Released</td>\n",
       "      <td>10703234</td>\n",
       "    </tr>\n",
       "    <tr>\n",
       "      <th>1</th>\n",
       "      <td>592</td>\n",
       "      <td>0</td>\n",
       "      <td>ru</td>\n",
       "      <td>0.402368</td>\n",
       "      <td>12/4/03</td>\n",
       "      <td>0.0</td>\n",
       "      <td>Released</td>\n",
       "      <td>234748</td>\n",
       "    </tr>\n",
       "    <tr>\n",
       "      <th>2</th>\n",
       "      <td>925</td>\n",
       "      <td>0</td>\n",
       "      <td>es</td>\n",
       "      <td>1.926826</td>\n",
       "      <td>11/15/13</td>\n",
       "      <td>0.0</td>\n",
       "      <td>Released</td>\n",
       "      <td>850259</td>\n",
       "    </tr>\n",
       "    <tr>\n",
       "      <th>3</th>\n",
       "      <td>978</td>\n",
       "      <td>11000000</td>\n",
       "      <td>it</td>\n",
       "      <td>5.010563</td>\n",
       "      <td>10/27/11</td>\n",
       "      <td>0.0</td>\n",
       "      <td>Released</td>\n",
       "      <td>12935800</td>\n",
       "    </tr>\n",
       "    <tr>\n",
       "      <th>4</th>\n",
       "      <td>1256</td>\n",
       "      <td>0</td>\n",
       "      <td>it</td>\n",
       "      <td>1.623440</td>\n",
       "      <td>8/25/75</td>\n",
       "      <td>0.0</td>\n",
       "      <td>Released</td>\n",
       "      <td>39598448</td>\n",
       "    </tr>\n",
       "  </tbody>\n",
       "</table>\n",
       "</div>"
      ],
      "text/plain": [
       "     id    budget original_language  popularity release_date  runtime  \\\n",
       "0   391   6843500                it    3.800073     12/22/12      0.0   \n",
       "1   592         0                ru    0.402368      12/4/03      0.0   \n",
       "2   925         0                es    1.926826     11/15/13      0.0   \n",
       "3   978  11000000                it    5.010563     10/27/11      0.0   \n",
       "4  1256         0                it    1.623440      8/25/75      0.0   \n",
       "\n",
       "     status   revenue  \n",
       "0  Released  10703234  \n",
       "1  Released    234748  \n",
       "2  Released    850259  \n",
       "3  Released  12935800  \n",
       "4  Released  39598448  "
      ]
     },
     "execution_count": 52,
     "metadata": {},
     "output_type": "execute_result"
    }
   ],
   "source": [
    "dffilm.drop(['belongs_to_collection','genres','homepage',\n",
    "            'imdb_id','spoken_languages','overview','title','poster_path','production_companies',\n",
    "            'production_countries','original_title','tagline','Keywords','cast','crew'], axis=1, inplace=True)\n",
    "dffilm.head()"
   ]
  },
  {
   "cell_type": "code",
   "execution_count": 53,
   "id": "b54c3d5f-8da9-4e69-82bc-6f60b16c5a1c",
   "metadata": {
    "tags": []
   },
   "outputs": [
    {
     "data": {
      "text/plain": [
       "0        10703234\n",
       "1          234748\n",
       "2          850259\n",
       "3        12935800\n",
       "4        39598448\n",
       "          ...    \n",
       "2995    122700000\n",
       "2996     71000000\n",
       "2997       871279\n",
       "2998        31000\n",
       "2999        65335\n",
       "Name: revenue, Length: 3000, dtype: int64"
      ]
     },
     "execution_count": 53,
     "metadata": {},
     "output_type": "execute_result"
    }
   ],
   "source": [
    "#plt.scatter(dffilm.original_language,dffilm.revenue)\n",
    "dffilm.revenue"
   ]
  },
  {
   "cell_type": "code",
   "execution_count": 54,
   "id": "5d26828a-0dc1-4597-8b8a-9efec1c04256",
   "metadata": {},
   "outputs": [
    {
     "data": {
      "text/html": [
       "<div>\n",
       "<style scoped>\n",
       "    .dataframe tbody tr th:only-of-type {\n",
       "        vertical-align: middle;\n",
       "    }\n",
       "\n",
       "    .dataframe tbody tr th {\n",
       "        vertical-align: top;\n",
       "    }\n",
       "\n",
       "    .dataframe thead th {\n",
       "        text-align: right;\n",
       "    }\n",
       "</style>\n",
       "<table border=\"1\" class=\"dataframe\">\n",
       "  <thead>\n",
       "    <tr style=\"text-align: right;\">\n",
       "      <th></th>\n",
       "      <th>id</th>\n",
       "      <th>budget</th>\n",
       "      <th>original_language</th>\n",
       "      <th>popularity</th>\n",
       "      <th>release_date</th>\n",
       "      <th>runtime</th>\n",
       "      <th>status</th>\n",
       "      <th>revenue</th>\n",
       "    </tr>\n",
       "  </thead>\n",
       "  <tbody>\n",
       "    <tr>\n",
       "      <th>17</th>\n",
       "      <td>2576</td>\n",
       "      <td>250000</td>\n",
       "      <td>1</td>\n",
       "      <td>4.297654</td>\n",
       "      <td>12</td>\n",
       "      <td>62.0</td>\n",
       "      <td>1</td>\n",
       "      <td>1000000</td>\n",
       "    </tr>\n",
       "    <tr>\n",
       "      <th>19</th>\n",
       "      <td>188</td>\n",
       "      <td>259000</td>\n",
       "      <td>1</td>\n",
       "      <td>0.722511</td>\n",
       "      <td>11</td>\n",
       "      <td>65.0</td>\n",
       "      <td>1</td>\n",
       "      <td>921000</td>\n",
       "    </tr>\n",
       "    <tr>\n",
       "      <th>20</th>\n",
       "      <td>488</td>\n",
       "      <td>4500000</td>\n",
       "      <td>0</td>\n",
       "      <td>1.833185</td>\n",
       "      <td>3</td>\n",
       "      <td>65.0</td>\n",
       "      <td>1</td>\n",
       "      <td>3468423</td>\n",
       "    </tr>\n",
       "    <tr>\n",
       "      <th>21</th>\n",
       "      <td>2278</td>\n",
       "      <td>8000000</td>\n",
       "      <td>0</td>\n",
       "      <td>7.321152</td>\n",
       "      <td>10</td>\n",
       "      <td>66.0</td>\n",
       "      <td>1</td>\n",
       "      <td>292279</td>\n",
       "    </tr>\n",
       "    <tr>\n",
       "      <th>22</th>\n",
       "      <td>1764</td>\n",
       "      <td>250000</td>\n",
       "      <td>1</td>\n",
       "      <td>8.168456</td>\n",
       "      <td>1</td>\n",
       "      <td>68.0</td>\n",
       "      <td>1</td>\n",
       "      <td>2500000</td>\n",
       "    </tr>\n",
       "    <tr>\n",
       "      <th>...</th>\n",
       "      <td>...</td>\n",
       "      <td>...</td>\n",
       "      <td>...</td>\n",
       "      <td>...</td>\n",
       "      <td>...</td>\n",
       "      <td>...</td>\n",
       "      <td>...</td>\n",
       "      <td>...</td>\n",
       "    </tr>\n",
       "    <tr>\n",
       "      <th>2994</th>\n",
       "      <td>1303</td>\n",
       "      <td>44000000</td>\n",
       "      <td>1</td>\n",
       "      <td>4.393576</td>\n",
       "      <td>11</td>\n",
       "      <td>219.0</td>\n",
       "      <td>1</td>\n",
       "      <td>3484331</td>\n",
       "    </tr>\n",
       "    <tr>\n",
       "      <th>2995</th>\n",
       "      <td>524</td>\n",
       "      <td>13000000</td>\n",
       "      <td>1</td>\n",
       "      <td>11.147040</td>\n",
       "      <td>10</td>\n",
       "      <td>220.0</td>\n",
       "      <td>1</td>\n",
       "      <td>122700000</td>\n",
       "    </tr>\n",
       "    <tr>\n",
       "      <th>2996</th>\n",
       "      <td>1923</td>\n",
       "      <td>31115000</td>\n",
       "      <td>1</td>\n",
       "      <td>8.591238</td>\n",
       "      <td>6</td>\n",
       "      <td>248.0</td>\n",
       "      <td>1</td>\n",
       "      <td>71000000</td>\n",
       "    </tr>\n",
       "    <tr>\n",
       "      <th>2997</th>\n",
       "      <td>1212</td>\n",
       "      <td>18000000</td>\n",
       "      <td>1</td>\n",
       "      <td>4.558075</td>\n",
       "      <td>5</td>\n",
       "      <td>338.0</td>\n",
       "      <td>1</td>\n",
       "      <td>871279</td>\n",
       "    </tr>\n",
       "    <tr>\n",
       "      <th>2998</th>\n",
       "      <td>1336</td>\n",
       "      <td>6000000</td>\n",
       "      <td>0</td>\n",
       "      <td>0.292296</td>\n",
       "      <td>10</td>\n",
       "      <td>NaN</td>\n",
       "      <td>1</td>\n",
       "      <td>31000</td>\n",
       "    </tr>\n",
       "  </tbody>\n",
       "</table>\n",
       "<p>2162 rows × 8 columns</p>\n",
       "</div>"
      ],
      "text/plain": [
       "        id    budget original_language  popularity release_date  runtime  \\\n",
       "17    2576    250000                 1    4.297654           12     62.0   \n",
       "19     188    259000                 1    0.722511           11     65.0   \n",
       "20     488   4500000                 0    1.833185            3     65.0   \n",
       "21    2278   8000000                 0    7.321152           10     66.0   \n",
       "22    1764    250000                 1    8.168456            1     68.0   \n",
       "...    ...       ...               ...         ...          ...      ...   \n",
       "2994  1303  44000000                 1    4.393576           11    219.0   \n",
       "2995   524  13000000                 1   11.147040           10    220.0   \n",
       "2996  1923  31115000                 1    8.591238            6    248.0   \n",
       "2997  1212  18000000                 1    4.558075            5    338.0   \n",
       "2998  1336   6000000                 0    0.292296           10      NaN   \n",
       "\n",
       "     status    revenue  \n",
       "17        1    1000000  \n",
       "19        1     921000  \n",
       "20        1    3468423  \n",
       "21        1     292279  \n",
       "22        1    2500000  \n",
       "...     ...        ...  \n",
       "2994      1    3484331  \n",
       "2995      1  122700000  \n",
       "2996      1   71000000  \n",
       "2997      1     871279  \n",
       "2998      1      31000  \n",
       "\n",
       "[2162 rows x 8 columns]"
      ]
     },
     "execution_count": 54,
     "metadata": {},
     "output_type": "execute_result"
    }
   ],
   "source": [
    "\n",
    "\n",
    "X_releasedate =dffilm\n",
    "for m in range(0,len(dffilm.release_date)):\n",
    "    film_date = dffilm.release_date[m]\n",
    "    dt = datetime.strptime(film_date, '%m/%d/%y')\n",
    "    #dffilm.release_date[m] = datetime_object.timetuple().tm_yday\n",
    "    X_releasedate.release_date[m]= dt.month\n",
    "    \n",
    "for i in range(0,len(dffilm.original_language)):\n",
    "    if dffilm.original_language[i]== 'en':\n",
    "        X_releasedate.original_language[i] = 1\n",
    "    else:\n",
    "        X_releasedate.original_language[i] = 0\n",
    "        \n",
    "\n",
    "for j in range(0,len(dffilm.status)):\n",
    "    if dffilm.status[j]== 'Released':\n",
    "        X_releasedate.status[j] = 1\n",
    "    else:\n",
    "        X_releasedate.status[j] = 0    \n",
    "\n",
    "X_releasedate =X_releasedate[X_releasedate['runtime'] !=0]\n",
    "X_releasedate =X_releasedate[X_releasedate['revenue'] !=0]\n",
    "X_releasedate =X_releasedate[X_releasedate['revenue'] >100]\n",
    "X_releasedate =X_releasedate[X_releasedate['budget'] !=0]\n",
    "        \n",
    "X_releasedate"
   ]
  },
  {
   "cell_type": "code",
   "execution_count": 55,
   "id": "ad02e1bc-2caa-4012-ae72-2c2c7612d39f",
   "metadata": {
    "tags": []
   },
   "outputs": [],
   "source": [
    "X_releasedate['release_date']=X_releasedate.release_date.astype('int64')\n",
    "X_releasedate['original_language']=X_releasedate.original_language.astype('int64')\n",
    "X_releasedate['status']=X_releasedate.status.astype('int64')"
   ]
  },
  {
   "cell_type": "code",
   "execution_count": 56,
   "id": "57fd258c-4b74-49d4-bc13-a3f53b818311",
   "metadata": {},
   "outputs": [],
   "source": [
    "X = X_releasedate.dropna().copy()\n"
   ]
  },
  {
   "cell_type": "code",
   "execution_count": 57,
   "id": "c7831cea-c08a-41b0-ba3a-63bca6c30f5b",
   "metadata": {},
   "outputs": [
    {
     "data": {
      "text/html": [
       "<div>\n",
       "<style scoped>\n",
       "    .dataframe tbody tr th:only-of-type {\n",
       "        vertical-align: middle;\n",
       "    }\n",
       "\n",
       "    .dataframe tbody tr th {\n",
       "        vertical-align: top;\n",
       "    }\n",
       "\n",
       "    .dataframe thead th {\n",
       "        text-align: right;\n",
       "    }\n",
       "</style>\n",
       "<table border=\"1\" class=\"dataframe\">\n",
       "  <thead>\n",
       "    <tr style=\"text-align: right;\">\n",
       "      <th></th>\n",
       "      <th>original_language</th>\n",
       "    </tr>\n",
       "  </thead>\n",
       "  <tbody>\n",
       "    <tr>\n",
       "      <th>17</th>\n",
       "      <td>1</td>\n",
       "    </tr>\n",
       "    <tr>\n",
       "      <th>19</th>\n",
       "      <td>1</td>\n",
       "    </tr>\n",
       "    <tr>\n",
       "      <th>20</th>\n",
       "      <td>0</td>\n",
       "    </tr>\n",
       "    <tr>\n",
       "      <th>21</th>\n",
       "      <td>0</td>\n",
       "    </tr>\n",
       "    <tr>\n",
       "      <th>22</th>\n",
       "      <td>1</td>\n",
       "    </tr>\n",
       "    <tr>\n",
       "      <th>...</th>\n",
       "      <td>...</td>\n",
       "    </tr>\n",
       "    <tr>\n",
       "      <th>2993</th>\n",
       "      <td>1</td>\n",
       "    </tr>\n",
       "    <tr>\n",
       "      <th>2994</th>\n",
       "      <td>1</td>\n",
       "    </tr>\n",
       "    <tr>\n",
       "      <th>2995</th>\n",
       "      <td>1</td>\n",
       "    </tr>\n",
       "    <tr>\n",
       "      <th>2996</th>\n",
       "      <td>1</td>\n",
       "    </tr>\n",
       "    <tr>\n",
       "      <th>2997</th>\n",
       "      <td>1</td>\n",
       "    </tr>\n",
       "  </tbody>\n",
       "</table>\n",
       "<p>2161 rows × 1 columns</p>\n",
       "</div>"
      ],
      "text/plain": [
       "      original_language\n",
       "17                    1\n",
       "19                    1\n",
       "20                    0\n",
       "21                    0\n",
       "22                    1\n",
       "...                 ...\n",
       "2993                  1\n",
       "2994                  1\n",
       "2995                  1\n",
       "2996                  1\n",
       "2997                  1\n",
       "\n",
       "[2161 rows x 1 columns]"
      ]
     },
     "execution_count": 57,
     "metadata": {},
     "output_type": "execute_result"
    }
   ],
   "source": [
    "\n",
    "X=X_releasedate.dropna()\n",
    "y=X_releasedate.dropna()\n",
    "X.drop(['id','budget','popularity','release_date','runtime','status','revenue'], axis=1, inplace=True)\n",
    "y.drop(['id','budget','popularity','release_date','runtime','status','original_language'], axis=1, inplace=True)\n",
    "X.shape\n",
    "y.shape\n",
    "X"
   ]
  },
  {
   "cell_type": "code",
   "execution_count": 58,
   "id": "c506d0c1-db9c-4d70-aa11-0953a0c3a9d8",
   "metadata": {},
   "outputs": [
    {
     "data": {
      "text/plain": [
       "<matplotlib.collections.PathCollection at 0x7ffe1ed4cdf0>"
      ]
     },
     "execution_count": 58,
     "metadata": {},
     "output_type": "execute_result"
    },
    {
     "data": {
      "image/png": "[encoded data removed]",
      "text/plain": [
       "<Figure size 432x288 with 1 Axes>"
      ]
     },
     "metadata": {},
     "output_type": "display_data"
    }
   ],
   "source": [
    "plt.scatter(X,y)\n",
    "#plt.scatter(X,y)"
   ]
  },
  {
   "cell_type": "code",
   "execution_count": 60,
   "id": "adaa6458-1103-4cbe-bd35-4185479342e2",
   "metadata": {},
   "outputs": [
    {
     "data": {
      "text/plain": [
       "(2161, 1)"
      ]
     },
     "execution_count": 60,
     "metadata": {},
     "output_type": "execute_result"
    }
   ],
   "source": [
    "X.shape"
   ]
  },
  {
   "cell_type": "code",
   "execution_count": 61,
   "id": "377f0b67-ae4d-4637-8ec7-d608de0aacbc",
   "metadata": {},
   "outputs": [
    {
     "data": {
      "text/plain": [
       "(2161, 1)"
      ]
     },
     "execution_count": 61,
     "metadata": {},
     "output_type": "execute_result"
    }
   ],
   "source": [
    "y.shape"
   ]
  },
  {
   "cell_type": "code",
   "execution_count": 62,
   "id": "1236ff01-1713-40cf-a542-c8666961e415",
   "metadata": {},
   "outputs": [
    {
     "data": {
      "text/plain": [
       "LinearRegression()"
      ]
     },
     "execution_count": 62,
     "metadata": {},
     "output_type": "execute_result"
    }
   ],
   "source": [
    "model = LinearRegression()\n",
    "model\n",
    "\n",
    "\n",
    "# Fit the data into the model\n",
    "model.fit(X, y)"
   ]
  },
  {
   "cell_type": "code",
   "execution_count": 63,
   "id": "c47702fe-c028-48c6-9622-ee29387e10c8",
   "metadata": {},
   "outputs": [
    {
     "name": "stdout",
     "output_type": "stream",
     "text": [
      "[[69266943.90988162]]\n"
     ]
    }
   ],
   "source": [
    "# The slope\n",
    "print(model.coef_)"
   ]
  },
  {
   "cell_type": "code",
   "execution_count": 64,
   "id": "95e7c7bc-a64c-481e-867c-aa0211548bc4",
   "metadata": {},
   "outputs": [
    {
     "name": "stdout",
     "output_type": "stream",
     "text": [
      "[26268159.81196582]\n"
     ]
    }
   ],
   "source": [
    "# The y-intercept\n",
    "print(model.intercept_)"
   ]
  },
  {
   "cell_type": "code",
   "execution_count": 65,
   "id": "8525f2bf-ce71-4fcf-b46f-9e4d74a3dab1",
   "metadata": {},
   "outputs": [
    {
     "name": "stdout",
     "output_type": "stream",
     "text": [
      "      original_language\n",
      "17                    1\n",
      "19                    1\n",
      "20                    0\n",
      "21                    0\n",
      "22                    1\n",
      "...                 ...\n",
      "2993                  1\n",
      "2994                  1\n",
      "2995                  1\n",
      "2996                  1\n",
      "2997                  1\n",
      "\n",
      "[2161 rows x 1 columns]\n"
     ]
    }
   ],
   "source": [
    "# The model creates predicted y values based on X values\n",
    "predicted_y_values = model.predict(X)\n",
    "print(X)"
   ]
  },
  {
   "cell_type": "code",
   "execution_count": 66,
   "id": "be077852-c525-4ddd-8d77-15953868a188",
   "metadata": {
    "tags": []
   },
   "outputs": [
    {
     "data": {
      "text/plain": [
       "[<matplotlib.lines.Line2D at 0x7ffe210c4250>]"
      ]
     },
     "execution_count": 66,
     "metadata": {},
     "output_type": "execute_result"
    },
    {
     "data": {
      "image/png": "[encoded data removed]",
      "text/plain": [
       "<Figure size 432x288 with 1 Axes>"
      ]
     },
     "metadata": {},
     "output_type": "display_data"
    }
   ],
   "source": [
    "#Plot the results. The best fit line is red.\n",
    "plt.scatter(X, y)\n",
    "plt.plot(X,predicted_y_values,color='red')"
   ]
  },
  {
   "cell_type": "code",
   "execution_count": 68,
   "id": "780d44f2-5c45-4e80-8683-fef2c16600b9",
   "metadata": {},
   "outputs": [
    {
     "name": "stderr",
     "output_type": "stream",
     "text": [
      "/Users/vikramjindal/opt/anaconda3/lib/python3.8/site-packages/seaborn/distributions.py:2619: FutureWarning: `distplot` is a deprecated function and will be removed in a future version. Please adapt your code to use either `displot` (a figure-level function with similar flexibility) or `histplot` (an axes-level function for histograms).\n",
      "  warnings.warn(msg, FutureWarning)\n"
     ]
    },
    {
     "data": {
      "image/png": "[encoded data removed]",
      "text/plain": [
       "<Figure size 720x432 with 3 Axes>"
      ]
     },
     "metadata": {},
     "output_type": "display_data"
    }
   ],
   "source": [
    "f, ax = plt.subplots(3, figsize=(10,6))\n",
    "\n",
    "sns.set(rc={'figure.figsize':(12,8)})\n",
    "sns.boxplot(x=X.original_language, ax = ax[0], color='purple')\n",
    "ax[0].set_title(\"Box Plot of Original language variable\")\n",
    "sns.distplot(a=X.original_language, kde = False, ax = ax[1], color='purple', hist_kws=dict(alpha=1))\n",
    "ax[1].set_title(\"Histogram of Original language variable\")\n",
    "sns.distplot(a=np.log1p(X.original_language), kde = False, ax = ax[2], color='purple', hist_kws=dict(alpha=1))\n",
    "ax[2].set_title(\"Log1p transformed Original language Histogram\")\n",
    "f.tight_layout()"
   ]
  },
  {
   "cell_type": "code",
   "execution_count": 69,
   "id": "3c0d557c-ad9c-4929-9fa2-46f710c8d068",
   "metadata": {},
   "outputs": [
    {
     "data": {
      "text/plain": [
       "count     3000\n",
       "unique       2\n",
       "top          1\n",
       "freq      2575\n",
       "Name: original_language, dtype: int64"
      ]
     },
     "execution_count": 69,
     "metadata": {},
     "output_type": "execute_result"
    }
   ],
   "source": [
    "dffilm['original_language'].describe()"
   ]
  },
  {
   "cell_type": "code",
   "execution_count": null,
   "id": "61207c41-5a6e-4d0e-9831-59bda8833064",
   "metadata": {},
   "outputs": [],
   "source": []
  },
  {
   "cell_type": "code",
   "execution_count": null,
   "id": "d0a96e5a-bd57-44a8-8f05-62acf1ee0162",
   "metadata": {},
   "outputs": [],
   "source": []
  }
 ],
 "metadata": {
  "kernelspec": {
   "display_name": "Python 3 (ipykernel)",
   "language": "python",
   "name": "python3"
  },
  "language_info": {
   "codemirror_mode": {
    "name": "ipython",
    "version": 3
   },
   "file_extension": ".py",
   "mimetype": "text/x-python",
   "name": "python",
   "nbconvert_exporter": "python",
   "pygments_lexer": "ipython3",
   "version": "3.8.2"
  }
 },
 "nbformat": 4,
 "nbformat_minor": 5
}
